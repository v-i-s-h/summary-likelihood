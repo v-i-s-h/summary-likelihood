{
 "cells": [
  {
   "cell_type": "markdown",
   "metadata": {},
   "source": [
    "Analysis of SST dataset"
   ]
  },
  {
   "cell_type": "code",
   "execution_count": null,
   "metadata": {},
   "outputs": [],
   "source": [
    "import os\n",
    "import pandas as pd\n",
    "\n",
    "import seaborn as sns"
   ]
  },
  {
   "cell_type": "code",
   "execution_count": null,
   "metadata": {},
   "outputs": [],
   "source": [
    "dataroot = \"./../../data/SST/stanfordSentimentTreebank/\"\n",
    "df1 = pd.read_csv(os.path.join(dataroot, \"dictionary.txt\"), sep='|', names=['text', 'phrase ids'])\n",
    "df2 = pd.read_csv(os.path.join(dataroot, \"sentiment_labels.txt\"), sep='|')\n",
    "\n",
    "df = df1.merge(df2, how='left', on='phrase ids').sort_values(by='phrase ids')"
   ]
  },
  {
   "cell_type": "code",
   "execution_count": null,
   "metadata": {},
   "outputs": [],
   "source": [
    "df['sentiment values'].hist(bins=25)"
   ]
  },
  {
   "cell_type": "code",
   "execution_count": null,
   "metadata": {},
   "outputs": [],
   "source": []
  }
 ],
 "metadata": {
  "kernelspec": {
   "display_name": "Python 3.9.7 ('bayes')",
   "language": "python",
   "name": "python3"
  },
  "language_info": {
   "codemirror_mode": {
    "name": "ipython",
    "version": 3
   },
   "file_extension": ".py",
   "mimetype": "text/x-python",
   "name": "python",
   "nbconvert_exporter": "python",
   "pygments_lexer": "ipython3",
   "version": "3.9.7"
  },
  "orig_nbformat": 4,
  "vscode": {
   "interpreter": {
    "hash": "13ede2aa3846a80420e8be59016e3b86d734ba47be24b4292330ac6ad96136da"
   }
  }
 },
 "nbformat": 4,
 "nbformat_minor": 2
}
