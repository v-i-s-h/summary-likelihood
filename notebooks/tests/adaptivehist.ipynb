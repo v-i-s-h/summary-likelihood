{
 "cells": [
  {
   "cell_type": "code",
   "execution_count": null,
   "metadata": {},
   "outputs": [],
   "source": [
    "import torch\n",
    "from torch import nn\n",
    "\n",
    "import numpy as np\n",
    "import scipy.stats as st\n",
    "\n",
    "import matplotlib.pyplot as plt"
   ]
  },
  {
   "cell_type": "code",
   "execution_count": null,
   "metadata": {},
   "outputs": [],
   "source": [
    "class AdaptiveSoftHistogram(nn.Module):\n",
    "    \"\"\"\n",
    "        Create soft histogram from samples\n",
    "    \"\"\"\n",
    "    def __init__(self, bin_edges, sigma=500):\n",
    "        \"\"\"\n",
    "        Parameters\n",
    "        ----------\n",
    "        \n",
    "        sigma : float\n",
    "            Slope of sigmoid\n",
    "        \"\"\"\n",
    "        super().__init__()\n",
    "        self.sigma = sigma\n",
    "        t1 = bin_edges[:-1]\n",
    "        t2 = bin_edges[1:]\n",
    "        bin_widths = t2 - t1\n",
    "        bin_centers = t1 + 0.5 * bin_widths\n",
    "\n",
    "        self.delta = nn.Parameter(bin_widths.unsqueeze(1)/2, requires_grad=False)\n",
    "        self.centers = nn.Parameter(bin_centers, requires_grad=False)\n",
    "\n",
    "    def forward(self, x):\n",
    "        \"\"\"Computes soft histogram\"\"\"\n",
    "\n",
    "        x = torch.unsqueeze(x, 1) - torch.unsqueeze(self.centers, 1)\n",
    "        _t1 = torch.sigmoid(self.sigma * (x + self.delta))\n",
    "        _t2 = torch.sigmoid(self.sigma * (x - self.delta))\n",
    "        x = _t1 - _t2\n",
    "        x = x.sum(dim=-1) + 1e-6 # epsilon for zero bins\n",
    "        x = x / x.sum(dim=-1).unsqueeze(1)\n",
    "        \n",
    "        return x"
   ]
  },
  {
   "cell_type": "code",
   "execution_count": null,
   "metadata": {},
   "outputs": [],
   "source": [
    "d = st.beta(3, 3)\n",
    "x = d.rvs(size=(32, 256))\n",
    "\n",
    "plt.hist(x.flatten())"
   ]
  },
  {
   "cell_type": "code",
   "execution_count": null,
   "metadata": {},
   "outputs": [],
   "source": [
    "bin_edges=[0.0, 0.01, 0.05, 0.10, 0.90, 0.95, 0.99, 1.00]\n",
    "h = AdaptiveSoftHistogram(torch.tensor(bin_edges))"
   ]
  },
  {
   "cell_type": "code",
   "execution_count": null,
   "metadata": {},
   "outputs": [],
   "source": [
    "h.centers"
   ]
  },
  {
   "cell_type": "code",
   "execution_count": null,
   "metadata": {},
   "outputs": [],
   "source": [
    "h.delta"
   ]
  },
  {
   "cell_type": "code",
   "execution_count": null,
   "metadata": {},
   "outputs": [],
   "source": [
    "y = h(torch.from_numpy(x))"
   ]
  },
  {
   "cell_type": "code",
   "execution_count": null,
   "metadata": {},
   "outputs": [],
   "source": [
    "y.mean(dim=0)"
   ]
  },
  {
   "cell_type": "code",
   "execution_count": null,
   "metadata": {},
   "outputs": [],
   "source": [
    "d.cdf(bin_edges) - np.insert(d.cdf(bin_edges)[:-1], 0, 0)"
   ]
  },
  {
   "cell_type": "code",
   "execution_count": null,
   "metadata": {},
   "outputs": [],
   "source": []
  }
 ],
 "metadata": {
  "kernelspec": {
   "display_name": "Python 3.9.7 ('bayes')",
   "language": "python",
   "name": "python3"
  },
  "language_info": {
   "codemirror_mode": {
    "name": "ipython",
    "version": 3
   },
   "file_extension": ".py",
   "mimetype": "text/x-python",
   "name": "python",
   "nbconvert_exporter": "python",
   "pygments_lexer": "ipython3",
   "version": "3.9.7"
  },
  "orig_nbformat": 4,
  "vscode": {
   "interpreter": {
    "hash": "13ede2aa3846a80420e8be59016e3b86d734ba47be24b4292330ac6ad96136da"
   }
  }
 },
 "nbformat": 4,
 "nbformat_minor": 2
}
