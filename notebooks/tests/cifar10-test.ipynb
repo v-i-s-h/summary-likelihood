{
 "cells": [
  {
   "cell_type": "code",
   "execution_count": null,
   "metadata": {},
   "outputs": [],
   "source": [
    "import sys\n",
    "\n",
    "sys.path.append(\"./../../\")"
   ]
  },
  {
   "cell_type": "code",
   "execution_count": null,
   "metadata": {},
   "outputs": [],
   "source": [
    "import matplotlib.pyplot as plt\n",
    "from datasets import CIFAR10"
   ]
  },
  {
   "cell_type": "code",
   "execution_count": null,
   "metadata": {},
   "outputs": [],
   "source": [
    "corr = CIFAR10.corruptions"
   ]
  },
  {
   "cell_type": "code",
   "execution_count": null,
   "metadata": {},
   "outputs": [],
   "source": [
    "corruption = 'gaussian_blur'\n",
    "n_levels = 5\n",
    "n_samples = 6\n",
    "\n",
    "fig, ax = plt.subplots(n_samples, n_levels, figsize=(n_levels*2.5, n_samples*2.5))\n",
    "\n",
    "for l in range(n_levels):\n",
    "    ds = CIFAR10('test', corruption=\"{}-{}\".format(corruption, l+1))\n",
    "\n",
    "    for i in range(n_samples):\n",
    "        x, _ = ds[i]\n",
    "        ax[i, l].imshow(x)\n",
    "        ax[i, l].axis('off')\n"
   ]
  },
  {
   "cell_type": "code",
   "execution_count": null,
   "metadata": {},
   "outputs": [],
   "source": []
  }
 ],
 "metadata": {
  "kernelspec": {
   "display_name": "Python 3.9.7 ('bayes')",
   "language": "python",
   "name": "python3"
  },
  "language_info": {
   "codemirror_mode": {
    "name": "ipython",
    "version": 3
   },
   "file_extension": ".py",
   "mimetype": "text/x-python",
   "name": "python",
   "nbconvert_exporter": "python",
   "pygments_lexer": "ipython3",
   "version": "3.9.7"
  },
  "orig_nbformat": 4,
  "vscode": {
   "interpreter": {
    "hash": "13ede2aa3846a80420e8be59016e3b86d734ba47be24b4292330ac6ad96136da"
   }
  }
 },
 "nbformat": 4,
 "nbformat_minor": 2
}
