{
 "cells": [
  {
   "cell_type": "markdown",
   "metadata": {},
   "source": [
    "# Analyze histogram of predicted scores"
   ]
  },
  {
   "cell_type": "code",
   "execution_count": null,
   "metadata": {},
   "outputs": [],
   "source": [
    "import sys\n",
    "sys.path.append(\"./../\")"
   ]
  },
  {
   "cell_type": "code",
   "execution_count": null,
   "metadata": {},
   "outputs": [],
   "source": [
    "import os\n",
    "import json\n",
    "import glob\n",
    "\n",
    "import numpy as np\n",
    "from tbparse import SummaryReader\n",
    "\n",
    "import methods, models, datasets, transforms\n",
    "\n",
    "import matplotlib.pyplot as plt\n",
    "plt.style.use('seaborn')"
   ]
  },
  {
   "cell_type": "code",
   "execution_count": null,
   "metadata": {},
   "outputs": [],
   "source": [
    "def get_event_file(model_dir):\n",
    "    tblog_dir = os.path.join(model_dir, \"tblog\")\n",
    "    events_file = glob.glob(tblog_dir + \"/events.out.tfevents*.1\")[0] # *.1 will be from test\n",
    "\n",
    "    return events_file"
   ]
  },
  {
   "cell_type": "code",
   "execution_count": null,
   "metadata": {},
   "outputs": [],
   "source": [
    "model_dir = \"./../zoo/test/BinaryMNISTC-53-identity/LeNet/20220402190833/\"\n",
    "\n",
    "# Default paths\n",
    "config_json = os.path.join(model_dir, \"config.json\")\n",
    "ckpt_file = os.path.join(model_dir, \"last.ckpt\")\n",
    "event_file = get_event_file(model_dir)\n"
   ]
  },
  {
   "cell_type": "code",
   "execution_count": null,
   "metadata": {},
   "outputs": [],
   "source": [
    "config = json.load(open(config_json, 'r'))\n",
    "params = config['method_params']\n",
    "\n",
    "ev = SummaryReader(event_file, pivot=True)\n",
    "df_scalars = ev.scalars\n",
    "df_hist = ev.histograms"
   ]
  },
  {
   "cell_type": "code",
   "execution_count": null,
   "metadata": {},
   "outputs": [],
   "source": [
    "df_scalars"
   ]
  },
  {
   "cell_type": "code",
   "execution_count": null,
   "metadata": {},
   "outputs": [],
   "source": [
    "l = df_hist.iloc[-1]\n",
    "x = l['test_y_pred/limits']\n",
    "y = l['test_y_pred/counts']\n",
    "y = y / y.sum()\n",
    "fig = plt.figure(figsize=(6,4))\n",
    "# plt.fill_between(x, y, step='pre')\n",
    "plt.bar(x, y, width=-0.09, align='edge')\n",
    "plt.xlim(0.0, 1.0)\n",
    "plt.ylim(0.0, 0.6)\n",
    "plt.title(\n",
    "    \"Beta({:.2f}, {:.2f})\".format(params['a'], params['b']) +\n",
    "    \"    $\\\\alpha$ = {:.0f}\".format(params['alpha']) +\n",
    "    \"    $\\\\lambda_{SL}$ = \"+\"{:.2f}\".format(params['lam_sl'])\n",
    ")\n",
    "plt.xlabel(\"p\")\n",
    "plt.ylabel(\"$\\hat{s_{obs}}$\")"
   ]
  },
  {
   "cell_type": "code",
   "execution_count": null,
   "metadata": {},
   "outputs": [],
   "source": []
  }
 ],
 "metadata": {
  "interpreter": {
   "hash": "2cc81e65ac001079a8dbd6b9a2e1804ae2bdf52e129f39c92608ef96e247326a"
  },
  "kernelspec": {
   "display_name": "Python 3.9.7 ('bdl')",
   "language": "python",
   "name": "python3"
  },
  "language_info": {
   "codemirror_mode": {
    "name": "ipython",
    "version": 3
   },
   "file_extension": ".py",
   "mimetype": "text/x-python",
   "name": "python",
   "nbconvert_exporter": "python",
   "pygments_lexer": "ipython3",
   "version": "3.9.7"
  },
  "orig_nbformat": 4
 },
 "nbformat": 4,
 "nbformat_minor": 2
}
