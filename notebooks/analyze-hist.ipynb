{
 "cells": [
  {
   "cell_type": "markdown",
   "metadata": {},
   "source": [
    "# Analyze histogram of predicted scores"
   ]
  },
  {
   "cell_type": "code",
   "execution_count": null,
   "metadata": {},
   "outputs": [],
   "source": [
    "import sys\n",
    "sys.path.append(\"./../\")"
   ]
  },
  {
   "cell_type": "code",
   "execution_count": null,
   "metadata": {},
   "outputs": [],
   "source": [
    "import os\n",
    "import json\n",
    "import glob\n",
    "\n",
    "import numpy as np\n",
    "from scipy import stats as S\n",
    "from tbparse import SummaryReader\n",
    "\n",
    "import methods, models, datasets, transforms\n",
    "\n",
    "import matplotlib.pyplot as plt\n",
    "plt.style.use('seaborn')"
   ]
  },
  {
   "cell_type": "code",
   "execution_count": null,
   "metadata": {},
   "outputs": [],
   "source": [
    "def get_event_file(model_dir):\n",
    "    tblog_dir = os.path.join(model_dir, \"tblog\")\n",
    "    events_file = glob.glob(tblog_dir + \"/events.out.tfevents*.1\")[0] # *.1 will be from test\n",
    "#     events_file = glob.glob(tblog_dir + \"/events.out.tfevents*.0\")[0] # *.1 will be from test\n",
    "\n",
    "    return events_file"
   ]
  },
  {
   "cell_type": "code",
   "execution_count": null,
   "metadata": {},
   "outputs": [],
   "source": [
    "model_dir = \"./../zoo/experiments-termwise-ablation/BinaryMNISTC-53-identity/LeNet/term_1_3-20220402202026\"\n",
    "# model_dir = \"./../zoo/experiments-termwise-ablation/BinaryMNISTC-53-identity/LeNet/term-all-beta0101-20220402214708\"\n",
    "# model_dir = \"./../zoo/experiments-termwise-ablation/BinaryMNISTC-53-identity/LeNet/term-all-beta1010-20220402213949\"\n",
    "# model_dir = \"./../zoo/experiments-termwise-ablation/BinaryMNISTC-53-identity/LeNet/term-all-beta5050-20220402213330\"\n",
    "# model_dir = \"./../zoo/experiments-termwise-ablation/BinaryMNISTC-53-identity/LeNet/abl-beta0101-lamsl-1e-3-20220405095409\"\n",
    "# model_dir = \"./../zoo/experiments-termwise-ablation/BinaryMNISTC-53-identity/LeNet/abl-beta0101-lamsl-1e-2-20220405101410\"\n",
    "# model_dir = \"./../zoo/experiments-termwise-ablation/BinaryMNISTC-53-identity/LeNet/abl-beta0101-lamsl-1e-1-20220405102339/\"\n",
    "# model_dir = \"./../zoo/experiments-termwise-ablation/BinaryMNISTC-53-identity/LeNet/abl-beta1010-lamsl-1e-3-20220405103601/\"\n",
    "# model_dir = \"./../zoo/experiments-termwise-ablation/BinaryMNISTC-53-identity/LeNet/abl-beta1010-lamsl-1e-2-20220405104817/\"\n",
    "# model_dir = \"./../zoo/experiments-termwise-ablation/BinaryMNISTC-53-identity/LeNet/abl-beta1010-lamsl-1e-1-20220405105703/\"\n",
    "# model_dir = \"./../zoo/experiments-termwise-ablation/BinaryMNISTC-53-identity/LeNet/abl-beta5050-lamsl-1e-3-20220405110933/\"\n",
    "# model_dir = \"./../zoo/experiments-termwise-ablation/BinaryMNISTC-53-identity/LeNet/abl-beta5050-lamsl-1e-2-20220405112231/\"\n",
    "# model_dir = \"./../zoo/experiments-termwise-ablation/BinaryMNISTC-53-identity/LeNet/abl-beta5050-lamsl-1e-1-20220405113534/\"\n",
    "# model_dir = \"./../zoo/experiments-termwise-ablation/BinaryMNISTC-53-identity/LeNet/dir-5050-lamsl-1e0-20220513202814/\"\n",
    "\n",
    "# Default paths\n",
    "config_json = os.path.join(model_dir, \"config.json\")\n",
    "ckpt_file = os.path.join(model_dir, \"last.ckpt\")\n",
    "event_file = get_event_file(model_dir)\n"
   ]
  },
  {
   "cell_type": "code",
   "execution_count": null,
   "metadata": {},
   "outputs": [],
   "source": [
    "config = json.load(open(config_json, 'r'))\n",
    "params = config['method_params']\n",
    "\n",
    "ev = SummaryReader(event_file, pivot=True)\n",
    "df_scalars = ev.scalars\n",
    "df_hist = ev.histograms"
   ]
  },
  {
   "cell_type": "code",
   "execution_count": null,
   "metadata": {},
   "outputs": [],
   "source": [
    "df_scalars"
   ]
  },
  {
   "cell_type": "code",
   "execution_count": null,
   "metadata": {},
   "outputs": [],
   "source": [
    "l = df_hist.iloc[-1]\n",
    "x = l['test_y_pred/limits']\n",
    "y = l['test_y_pred/counts']\n",
    "# x = l['y_pred/limits']\n",
    "# y = l['y_pred/counts']\n",
    "y = y / y.sum()\n",
    "\n",
    "\n",
    "base_measure = S.beta(params['a'], params['b'])\n",
    "x2 = np.linspace(0.0, 1.0, 25)\n",
    "pdf = base_measure.pdf(x2)\n",
    "\n",
    "\n",
    "fig = plt.figure(figsize=(6,4))\n",
    "# plt.fill_between(x, y, step='pre')\n",
    "plt.bar(x, y, width=-0.09, align='edge')\n",
    "# plt.plot(x2, pdf)\n",
    "plt.xlim(0.0, 1.0)\n",
    "plt.ylim(0.0, 0.6)\n",
    "# plt.title(\n",
    "#     \"Beta({:.2f}, {:.2f})\".format(params['a'], params['b']) +\n",
    "#     \"    $\\\\alpha$ = {:.0f}\".format(params['alpha']) +\n",
    "#     \"    $\\\\lambda_{SL}$ = \"+\"{:.2f}\".format(params['lam_sl'])\n",
    "# )\n",
    "plt.xlabel(\"$\\\\hat{p}$\")\n",
    "plt.ylabel(\"$\\hat{s_{\\\\theta}}$\")\n",
    "# plt.tight_layout()"
   ]
  },
  {
   "cell_type": "code",
   "execution_count": null,
   "metadata": {},
   "outputs": [],
   "source": []
  }
 ],
 "metadata": {
  "interpreter": {
   "hash": "2cc81e65ac001079a8dbd6b9a2e1804ae2bdf52e129f39c92608ef96e247326a"
  },
  "kernelspec": {
   "display_name": "Python (Bayes)",
   "language": "python",
   "name": "bayes"
  },
  "language_info": {
   "codemirror_mode": {
    "name": "ipython",
    "version": 3
   },
   "file_extension": ".py",
   "mimetype": "text/x-python",
   "name": "python",
   "nbconvert_exporter": "python",
   "pygments_lexer": "ipython3",
   "version": "3.9.7"
  }
 },
 "nbformat": 4,
 "nbformat_minor": 4
}
