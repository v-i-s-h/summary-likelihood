{
 "cells": [
  {
   "cell_type": "markdown",
   "metadata": {},
   "source": [
    "To analyze the effect of parameters on s_obs\n",
    "\n",
    "\n",
    "s_obs is extracted from a beta distribution with parameters computed from class imbalance and expected accuracy. "
   ]
  },
  {
   "cell_type": "code",
   "execution_count": null,
   "metadata": {},
   "outputs": [],
   "source": [
    "import numpy as np\n",
    "import scipy.stats as st\n",
    "from scipy.special import betainc\n",
    "from scipy.optimize import minimize\n",
    "\n",
    "import matplotlib.pyplot as plt\n",
    "plt.style.use('seaborn')\n",
    "\n",
    "import sys\n",
    "sys.path.append(\"./../\")\n",
    "from methods.sl import compute_beta_prior_params"
   ]
  },
  {
   "cell_type": "code",
   "execution_count": null,
   "metadata": {},
   "outputs": [],
   "source": [
    "ea = np.linspace(0.50, 1.00, 51)"
   ]
  },
  {
   "cell_type": "code",
   "execution_count": null,
   "metadata": {},
   "outputs": [],
   "source": [
    "p0_list = [0.50, 0.60, 0.70, 0.80, 0.90, 0.95]\n",
    "n = len(p0_list)\n",
    "\n",
    "fig, ax = plt.subplots(1, n, figsize=(3.5 * n, 3.0))\n",
    "\n",
    "for p0, _ax in zip(p0_list, ax):\n",
    "    params = np.array(list(map(lambda x: compute_beta_prior_params(p0, x), ea)))\n",
    "\n",
    "    _ax.plot(ea, params[:, 0], label='a')\n",
    "    _ax.plot(ea, params[:, 1], label='b')\n",
    "    _ax.set_yscale('log')\n",
    "    _ax.set_title(\"p0 = {:.2f}\".format(p0))\n",
    "    _ax.set_xlabel(\"Ea\")\n",
    "    _ax.legend()"
   ]
  },
  {
   "cell_type": "code",
   "execution_count": null,
   "metadata": {},
   "outputs": [],
   "source": []
  }
 ],
 "metadata": {
  "kernelspec": {
   "display_name": "Python 3.9.7 ('bayes')",
   "language": "python",
   "name": "python397jvsc74a57bd013ede2aa3846a80420e8be59016e3b86d734ba47be24b4292330ac6ad96136da"
  },
  "language_info": {
   "codemirror_mode": {
    "name": "ipython",
    "version": 3
   },
   "file_extension": ".py",
   "mimetype": "text/x-python",
   "name": "python",
   "nbconvert_exporter": "python",
   "pygments_lexer": "ipython3",
   "version": "3.9.7"
  }
 },
 "nbformat": 4,
 "nbformat_minor": 4
}
