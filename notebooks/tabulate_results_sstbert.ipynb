{
 "cells": [
  {
   "cell_type": "markdown",
   "metadata": {},
   "source": [
    "# Extract eval results - SSTBERT"
   ]
  },
  {
   "cell_type": "code",
   "execution_count": null,
   "metadata": {},
   "outputs": [],
   "source": [
    "import sys\n",
    "sys.path.append(\"./../\")"
   ]
  },
  {
   "cell_type": "code",
   "execution_count": null,
   "metadata": {},
   "outputs": [],
   "source": [
    "import os\n",
    "import json\n",
    "import glob\n",
    "import pickle\n",
    "\n",
    "import numpy as np\n",
    "import pandas as pd\n",
    "\n",
    "import matplotlib.pyplot as plt\n",
    "import seaborn as sns\n",
    "\n",
    "sns.set_style('darkgrid')"
   ]
  },
  {
   "cell_type": "markdown",
   "metadata": {},
   "source": [
    "#### Utility functions"
   ]
  },
  {
   "cell_type": "code",
   "execution_count": null,
   "metadata": {},
   "outputs": [],
   "source": [
    "# Accuracy threshold for models to be included in analysis\n",
    "ACC_THRESHOLD = 0.80"
   ]
  },
  {
   "cell_type": "code",
   "execution_count": null,
   "metadata": {},
   "outputs": [],
   "source": [
    "def extract_results(model_dir):\n",
    "    \"\"\"\n",
    "        Get metrics from model dir\n",
    "    \"\"\"\n",
    "\n",
    "    # Get config\n",
    "    config_json = os.path.join(model_dir, 'config.json')\n",
    "    config = json.load(open(config_json, 'r'))\n",
    "    \n",
    "    # Extract config values\n",
    "    method = config['method']\n",
    "    \n",
    "    # Create a table entry for parameters  as string\n",
    "    param_str = method # start with method label\n",
    "    for _p, _p_value in config['method_params'].items():\n",
    "        _p_value_str = None\n",
    "        if isinstance(_p_value, int):\n",
    "            _p_value_str = '{:04d}'.format(_p_value)\n",
    "        elif isinstance(_p_value, float):\n",
    "            _p_value_str = '{:08.3f}'.format(_p_value)\n",
    "        else:\n",
    "            _p_value_str = '{}'.format(_p_value)\n",
    "        param_str += '-{}={}'.format(_p, _p_value_str)\n",
    "    param = param_str\n",
    "    \n",
    "    results = None\n",
    "    \n",
    "    # Get ECE result files\n",
    "    ece_result_files = glob.glob(model_dir + \"/ece_results_*.pkl\")\n",
    "    # print(model_dir, ood_result_files)\n",
    "    \n",
    "    # Get results\n",
    "    for rfile in ece_result_files:\n",
    "        filename = os.path.basename(rfile)\n",
    "        # Get corruption name from file name\n",
    "        corr_name = ' '.join(filename.split('_')[2:])[:-4]\n",
    "        with open(rfile, 'rb') as f:\n",
    "            logs = pickle.load(f)[0]\n",
    "            r = {\n",
    "                'method': method,\n",
    "                'params': param,\n",
    "                'corruption': corr_name,\n",
    "                'ece': logs['ece_uncal_val'],\n",
    "                'acc': logs['acc_val'],\n",
    "                'nll': logs['nll_uncal_val'],\n",
    "                'auroc': logs['auroc_val'],\n",
    "                'ece_test': logs['ece_uncal_test'],\n",
    "                'acc_test': logs['acc_test'],\n",
    "                'nll_test': logs['nll_uncal_test'],\n",
    "                'auroc_test': logs['auroc_test']\n",
    "            }\n",
    "            \n",
    "            if results is not None:\n",
    "                results.append(r)\n",
    "            else:\n",
    "                results = [r]\n",
    "    \n",
    "    return results"
   ]
  },
  {
   "cell_type": "markdown",
   "metadata": {},
   "source": [
    "#### Specify experiments"
   ]
  },
  {
   "cell_type": "code",
   "execution_count": null,
   "metadata": {},
   "outputs": [],
   "source": [
    "# SST - BERT\n",
    "result_dirs = [\n",
    "    \"./../zoo/sst/edl/SSTBERT/SSTNetEDL\",\n",
    "    \"./../zoo/sst/ls/SSTBERT/SSTNet\",\n",
    "    \"./../zoo/sst/mfvi/SSTBERT/SSTNet\",\n",
    "    # \"./../zoo/sst/sl-eqbin/auto-prior-alphavar/SSTBERT/SSTNet\",\n",
    "    \"./../zoo/sst/sl-eqbin/uniform-prior-alphavar/SSTBERT/SSTNet\",\n",
    "    # \"./../zoo/sst/sl-uneqbin/auto-prior-alphavar/SSTBERT/SSTNet\",\n",
    "    # \"./../zoo/sst/sl-uneqbin/uniform-prior-alphavar/SSTBERT/SSTNet\",\n",
    "]"
   ]
  },
  {
   "cell_type": "markdown",
   "metadata": {},
   "source": [
    "#### Load results"
   ]
  },
  {
   "cell_type": "code",
   "execution_count": null,
   "metadata": {},
   "outputs": [],
   "source": [
    "# Enumerate model directories and load evaluation results\n",
    "results = []\n",
    "for models_root in result_dirs:\n",
    "    model_dirs = list(map(lambda d: os.path.join(models_root, d), os.listdir(models_root)))\n",
    "    for _m in model_dirs:\n",
    "        results.extend(extract_results(_m))\n",
    "df_results = pd.DataFrame(results)"
   ]
  },
  {
   "cell_type": "code",
   "execution_count": null,
   "metadata": {},
   "outputs": [],
   "source": [
    "# Do basic QA, ignore all models which fail to train satisfactorily\n",
    "df_results = df_results[df_results.acc > ACC_THRESHOLD]"
   ]
  },
  {
   "cell_type": "code",
   "execution_count": null,
   "metadata": {},
   "outputs": [],
   "source": [
    "df_results"
   ]
  },
  {
   "cell_type": "markdown",
   "metadata": {},
   "source": [
    "## Get results for Clean dataset"
   ]
  },
  {
   "cell_type": "code",
   "execution_count": null,
   "metadata": {},
   "outputs": [],
   "source": [
    "df_clean = df_results[df_results.corruption == 'eps-0.00'].drop(['corruption'], axis=1).reset_index()"
   ]
  },
  {
   "cell_type": "code",
   "execution_count": null,
   "metadata": {},
   "outputs": [],
   "source": [
    "df_clean"
   ]
  },
  {
   "cell_type": "code",
   "execution_count": null,
   "metadata": {},
   "outputs": [],
   "source": [
    "metrics_summ = df_clean.groupby('params').agg(\n",
    "    n = pd.NamedAgg(column='acc', aggfunc='count'),\n",
    "    acc_mean = pd.NamedAgg(column='acc', aggfunc='mean'),\n",
    "    acc_err = pd.NamedAgg(column='acc', aggfunc=lambda x: np.std(x) / np.sqrt(x.shape[0])),\n",
    "    ece_mean = pd.NamedAgg(column='ece', aggfunc='mean'),\n",
    "    ece_err = pd.NamedAgg(column='ece', aggfunc=lambda x: np.std(x) / np.sqrt(x.shape[0])),\n",
    "    nll_mean = pd.NamedAgg(column='nll', aggfunc='mean'),\n",
    "    nll_err = pd.NamedAgg(column='nll', aggfunc=lambda x: np.std(x) / np.sqrt(x.shape[0])),\n",
    "    auroc_mean = pd.NamedAgg(column='auroc', aggfunc='mean'),\n",
    "    auroc_err = pd.NamedAgg(column='auroc', aggfunc=lambda x: np.std(x) / np.sqrt(x.shape[0])),\n",
    ")"
   ]
  },
  {
   "cell_type": "code",
   "execution_count": null,
   "metadata": {},
   "outputs": [],
   "source": [
    "metrics_summ"
   ]
  },
  {
   "cell_type": "code",
   "execution_count": null,
   "metadata": {},
   "outputs": [],
   "source": [
    "nll_min = metrics_summ.nll_mean.min()\n",
    "acc_max = metrics_summ.acc_mean.max()\n",
    "auroc_max = metrics_summ.auroc_mean.max()\n",
    "ece_min = metrics_summ.ece_mean.min()\n",
    "\n",
    "for row in metrics_summ.itertuples():\n",
    "    buffer = \"{:56s}\".format(row.Index)\n",
    "\n",
    "    if row.nll_mean == nll_min:\n",
    "        buffer += \"& $\\mathbf{{{:.3f} \\pm {:.3f}}}$\".format(row.nll_mean, row.nll_err)\n",
    "    else:\n",
    "        buffer += \"&          ${:.3f} \\pm {:.3f}$\".format(row.nll_mean, row.nll_err)\n",
    "\n",
    "    if row.acc_mean == acc_max:\n",
    "        buffer += \"& $\\mathbf{{{:.3f} \\pm {:.3f}}}$\".format(row.acc_mean, row.acc_err)\n",
    "    else:\n",
    "        buffer += \"&          ${:.3f} \\pm {:.3f}$\".format(row.acc_mean, row.acc_err)\n",
    "\n",
    "    if row.auroc_mean == auroc_max:\n",
    "        buffer += \"& $\\mathbf{{{:.3f} \\pm {:.3f}}}$\".format(row.auroc_mean, row.auroc_err)\n",
    "    else:\n",
    "        buffer += \"&          ${:.3f} \\pm {:.3f}$\".format(row.auroc_mean, row.auroc_err)\n",
    "\n",
    "    if row.ece_mean == ece_min:\n",
    "        buffer += \"& $\\mathbf{{{:.3f} \\pm {:.3f}}}$\".format(row.ece_mean, row.ece_err)\n",
    "    else:\n",
    "        buffer += \"&          ${:.3f} \\pm {:.3f}$\".format(row.ece_mean, row.ece_err)\n",
    "\n",
    "    print(buffer)"
   ]
  },
  {
   "cell_type": "markdown",
   "metadata": {},
   "source": [
    "#### Get results for test dataset"
   ]
  },
  {
   "cell_type": "code",
   "execution_count": null,
   "metadata": {},
   "outputs": [],
   "source": [
    "metrics_summ_test = df_clean.groupby('params').agg(\n",
    "    n = pd.NamedAgg(column='acc_test', aggfunc='count'),\n",
    "    acc_mean = pd.NamedAgg(column='acc_test', aggfunc='mean'),\n",
    "    acc_err = pd.NamedAgg(column='acc_test', aggfunc=lambda x: np.std(x) / np.sqrt(x.shape[0])),\n",
    "    ece_mean = pd.NamedAgg(column='ece_test', aggfunc='mean'),\n",
    "    ece_err = pd.NamedAgg(column='ece_test', aggfunc=lambda x: np.std(x) / np.sqrt(x.shape[0])),\n",
    "    nll_mean = pd.NamedAgg(column='nll_test', aggfunc='mean'),\n",
    "    nll_err = pd.NamedAgg(column='nll_test', aggfunc=lambda x: np.std(x) / np.sqrt(x.shape[0])),\n",
    "    auroc_mean = pd.NamedAgg(column='auroc_test', aggfunc='mean'),\n",
    "    auroc_err = pd.NamedAgg(column='auroc_test', aggfunc=lambda x: np.std(x) / np.sqrt(x.shape[0])),\n",
    ")"
   ]
  },
  {
   "cell_type": "code",
   "execution_count": null,
   "metadata": {},
   "outputs": [],
   "source": [
    "metrics_summ_test"
   ]
  },
  {
   "cell_type": "code",
   "execution_count": null,
   "metadata": {},
   "outputs": [],
   "source": [
    "def get_prefix(x):\n",
    "    parts = x.split('-')\n",
    "    if len(parts) < 2:\n",
    "        return '-'.join(parts)\n",
    "    else:\n",
    "        buffer = '-'.join(parts[:-1])\n",
    "        if buffer.startswith('sl'):\n",
    "            buffer += '-alpha='\n",
    "        return buffer\n",
    "\n",
    "# Find groups of experiments without looking at last param\n",
    "unique_prefixes = list(sorted(set(\n",
    "        list(map(get_prefix, metrics_summ.index))\n",
    "    )))\n",
    "\n",
    "# For each of the unique prefixes, find the best in validation group according to\n",
    "# NLL\n",
    "r = []\n",
    "for pfx in unique_prefixes:\n",
    "    _df_val = metrics_summ[metrics_summ.index.str.startswith(pfx)]\n",
    "    idx = _df_val.nll_mean.idxmin()\n",
    "\n",
    "    # Now get the corresponding results from test set\n",
    "    r.append(metrics_summ_test.loc[idx])\n",
    "\n",
    "df_nll_best = pd.DataFrame(r)"
   ]
  },
  {
   "cell_type": "code",
   "execution_count": null,
   "metadata": {},
   "outputs": [],
   "source": [
    "df_nll_best"
   ]
  },
  {
   "cell_type": "code",
   "execution_count": null,
   "metadata": {},
   "outputs": [],
   "source": [
    "# For MNIST Results Table\n",
    "\n",
    "nll_min = df_nll_best.nll_mean.min()\n",
    "acc_max = df_nll_best.acc_mean.max()\n",
    "auroc_max = df_nll_best.auroc_mean.max()\n",
    "ece_min = df_nll_best.ece_mean.min()\n",
    "\n",
    "for row in df_nll_best.itertuples():\n",
    "    buffer = \"{:56s}\".format(row.Index)\n",
    "\n",
    "    if row.nll_mean == nll_min:\n",
    "        buffer += \" & $\\mathbf{{{:.3f} \\pm {:.3f}}}$\".format(row.nll_mean, row.nll_err)\n",
    "    else:\n",
    "        buffer += \" &          ${:.3f} \\pm {:.3f}$\".format(row.nll_mean, row.nll_err)\n",
    "\n",
    "    if row.acc_mean == acc_max:\n",
    "        buffer += \" & $\\mathbf{{{:.3f} \\pm {:.3f}}}$\".format(row.acc_mean, row.acc_err)\n",
    "    else:\n",
    "        buffer += \" &          ${:.3f} \\pm {:.3f}$\".format(row.acc_mean, row.acc_err)\n",
    "\n",
    "    if row.auroc_mean == auroc_max:\n",
    "        buffer += \" & $\\mathbf{{{:.3f} \\pm {:.3f}}}$\".format(row.auroc_mean, row.auroc_err)\n",
    "    else:\n",
    "        buffer += \" &          ${:.3f} \\pm {:.3f}$\".format(row.auroc_mean, row.auroc_err)\n",
    "\n",
    "    if row.ece_mean == ece_min:\n",
    "        buffer += \" & $\\mathbf{{{:.3f} \\pm {:.3f}}}$\".format(row.ece_mean, row.ece_err)\n",
    "    else:\n",
    "        buffer += \" &          ${:.3f} \\pm {:.3f}$\".format(row.ece_mean, row.ece_err)\n",
    "\n",
    "    print(buffer)"
   ]
  },
  {
   "cell_type": "markdown",
   "metadata": {},
   "source": [
    "## Get results for Corrupted dataset"
   ]
  },
  {
   "cell_type": "code",
   "execution_count": null,
   "metadata": {},
   "outputs": [],
   "source": [
    "df_corrupted = df_results"
   ]
  },
  {
   "cell_type": "code",
   "execution_count": null,
   "metadata": {},
   "outputs": [],
   "source": [
    "df_corrupted"
   ]
  },
  {
   "cell_type": "code",
   "execution_count": null,
   "metadata": {},
   "outputs": [],
   "source": [
    "df_corrupted['gamma'] = df_corrupted.corruption.apply(lambda x: float(x.split('-')[-1]))"
   ]
  },
  {
   "cell_type": "code",
   "execution_count": null,
   "metadata": {},
   "outputs": [],
   "source": [
    "df_nll_best.index.tolist()"
   ]
  },
  {
   "cell_type": "code",
   "execution_count": null,
   "metadata": {},
   "outputs": [],
   "source": [
    "# Get the result for best configuration in family\n",
    "df_corrupted_test = df_corrupted[df_corrupted.params.isin(df_nll_best.index.tolist())].reset_index(drop=True)"
   ]
  },
  {
   "cell_type": "code",
   "execution_count": null,
   "metadata": {},
   "outputs": [],
   "source": [
    "df_corrupted_test"
   ]
  },
  {
   "cell_type": "code",
   "execution_count": null,
   "metadata": {},
   "outputs": [],
   "source": [
    "gdf_corrupted_ece_mean = df_corrupted_test[\n",
    "    ['params', 'gamma', 'ece_test', 'nll_test', 'acc_test']\n",
    "].groupby(['params', 'gamma']).mean()\n",
    "\n",
    "df = gdf_corrupted_ece_mean.reset_index()\n",
    "df = df[df.gamma <= 0.5]"
   ]
  },
  {
   "cell_type": "code",
   "execution_count": null,
   "metadata": {},
   "outputs": [],
   "source": [
    "def label_mapper(label):\n",
    "    if label.startswith('edl'):\n",
    "        return \"EDL\"\n",
    "    elif label.startswith(\"mfvi\"):\n",
    "        return \"ELBO\"\n",
    "    elif label.startswith(\"ls\"):\n",
    "        return \"LS\"\n",
    "    elif label.startswith(\"sl\"):\n",
    "        # SL\n",
    "        params = []\n",
    "        alpha = float(label.split(\"=\")[-1])\n",
    "        params.append(\"$\\\\alpha = {:.0f}$\".format(alpha))\n",
    "        if 'adahist' in label:\n",
    "            params.append(\"uneqbin\")\n",
    "        else:\n",
    "            params.append(\"eqbin\")\n",
    "        if 'ea' in label:\n",
    "            params.append(\"auto\")\n",
    "        else:\n",
    "            params.append(\"uniform\")\n",
    "        # buff = \"SL ({})\".format(', '.join(params))\n",
    "        buff = \"Proposed\"\n",
    "\n",
    "        return buff"
   ]
  },
  {
   "cell_type": "code",
   "execution_count": null,
   "metadata": {},
   "outputs": [],
   "source": [
    "fig, ax = plt.subplots(1, 3, figsize=(2.5*3, 2))\n",
    "\n",
    "for label, _df in df.groupby(by='params'):\n",
    "    label = label_mapper(label)\n",
    "    # ax[0].semilogy(_df.gamma, _df.nll_test, label=label)\n",
    "    # ax[1].semilogy(_df.gamma, _df.acc_test, label=label)\n",
    "    # ax[2].semilogy(_df.gamma, _df.ece_test, label=label)\n",
    "    ax[0].plot(_df.gamma, _df.nll_test, label=label)\n",
    "    ax[1].plot(_df.gamma, _df.acc_test, label=label)\n",
    "    ax[2].plot(_df.gamma, _df.ece_test, label=label)\n",
    "\n",
    "ax[0].set_title(\"NLL\")\n",
    "ax[1].set_title(\"Accuracy\")\n",
    "ax[2].set_title(\"ECE\")\n",
    "\n",
    "for _ax in ax:\n",
    "    _ax.set_xlabel(\"$\\\\gamma$\")\n",
    "    _ax.set_xticks([0.0, 0.1, 0.2, 0.3, 0.4, 0.5])\n",
    "    _ax.legend()"
   ]
  },
  {
   "cell_type": "code",
   "execution_count": null,
   "metadata": {},
   "outputs": [],
   "source": [
    "fig, ax = plt.subplots(1, 3, figsize=(6*3, 4))\n",
    "\n",
    "for label, _df in df.groupby(by='params'):\n",
    "    label = label_mapper(label)\n",
    "    # ax[0].semilogy(_df.gamma, _df.nll_test, label=label)\n",
    "    # ax[1].semilogy(_df.gamma, _df.acc_test, label=label)\n",
    "    # ax[2].semilogy(_df.gamma, _df.ece_test, label=label)\n",
    "    ax[0].plot(_df.gamma, _df.nll_test, label=label)\n",
    "    ax[1].plot(_df.gamma, _df.acc_test, label=label)\n",
    "    ax[2].plot(_df.gamma, _df.ece_test, label=label)\n",
    "\n",
    "ax[0].set_title(\"NLL\")\n",
    "ax[1].set_title(\"Accuracy\")\n",
    "ax[2].set_title(\"ECE\")\n",
    "\n",
    "for _ax in ax:\n",
    "    _ax.set_xlabel(\"$\\\\gamma$\")\n",
    "    _ax.set_xticks([0.0, 0.1, 0.2, 0.3, 0.4, 0.5])\n",
    "    _ax.legend()"
   ]
  },
  {
   "cell_type": "code",
   "execution_count": null,
   "metadata": {},
   "outputs": [],
   "source": []
  }
 ],
 "metadata": {
  "kernelspec": {
   "display_name": "Python (Bayes)",
   "language": "python",
   "name": "bayes"
  },
  "language_info": {
   "codemirror_mode": {
    "name": "ipython",
    "version": 3
   },
   "file_extension": ".py",
   "mimetype": "text/x-python",
   "name": "python",
   "nbconvert_exporter": "python",
   "pygments_lexer": "ipython3",
   "version": "3.9.7"
  }
 },
 "nbformat": 4,
 "nbformat_minor": 4
}
