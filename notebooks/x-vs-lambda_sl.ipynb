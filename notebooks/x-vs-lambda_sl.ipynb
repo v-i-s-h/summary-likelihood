{
 "cells": [
  {
   "cell_type": "code",
   "execution_count": null,
   "metadata": {},
   "outputs": [],
   "source": [
    "import sys\n",
    "sys.path.append(\"./../\")"
   ]
  },
  {
   "cell_type": "code",
   "execution_count": null,
   "metadata": {},
   "outputs": [],
   "source": [
    "import os\n",
    "import json\n",
    "import glob\n",
    "\n",
    "import numpy as np\n",
    "import pandas as pd\n",
    "\n",
    "from tbparse import SummaryReader\n",
    "import matplotlib.pyplot as plt\n",
    "plt.style.use('seaborn')"
   ]
  },
  {
   "cell_type": "code",
   "execution_count": null,
   "metadata": {},
   "outputs": [],
   "source": [
    "def extract_results(model_dir):\n",
    "    \"\"\"\n",
    "        Get metrics from a give model folder\n",
    "    \"\"\"\n",
    "    \n",
    "    # Get config\n",
    "    config_json = os.path.join(model_dir, 'config.json')\n",
    "    config = json.load(open(config_json, 'r'))\n",
    "    \n",
    "    # Get test events file\n",
    "    tblog_dir = os.path.join(model_dir, \"tblog\")\n",
    "    events_file = glob.glob(tblog_dir + \"/events.out.tfevents*.1\") # *.1 will be from test\n",
    "    if len(events_file) > 0:\n",
    "        events_file = events_file[0]\n",
    "    else:\n",
    "        print(\"Skipping\", model_dir)\n",
    "        return None\n",
    "    tb_log = SummaryReader(events_file, pivot=True).scalars\n",
    "    \n",
    "    # Extract key points\n",
    "    lam_sl = config['method_params']['lam_sl']\n",
    "    ds_size = config['ds_params']['size']\n",
    "    ds_corr = config['ds_params']['corruption']\n",
    "    acc = tb_log.test_acc.values[0]\n",
    "    ece = tb_log.test_ece.values[0]\n",
    "    f1 = tb_log.test_f1.values[0]\n",
    "    loss = tb_log.test_loss.values[0]\n",
    "    \n",
    "    return {\n",
    "        'lam_sl': lam_sl,\n",
    "        'ds_size': ds_size,\n",
    "        'ds_corr': ds_corr,\n",
    "        'acc': acc,\n",
    "        'ece': ece,\n",
    "        'f1': f1,\n",
    "        'loss': loss\n",
    "    }"
   ]
  },
  {
   "cell_type": "code",
   "execution_count": null,
   "metadata": {},
   "outputs": [],
   "source": [
    "def extract_best_results(model_dir):\n",
    "    # Get config\n",
    "    config_json = os.path.join(model_dir, 'config.json')\n",
    "    config = json.load(open(config_json, 'r'))\n",
    "    \n",
    "    # Get test events file\n",
    "    tblog_dir = os.path.join(model_dir, \"tblog\")\n",
    "    events_file = glob.glob(tblog_dir + \"/events.out.tfevents*.0\") # *.1 will be from test\n",
    "    if len(events_file) > 0:\n",
    "        events_file = events_file[0]\n",
    "    else:\n",
    "        print(\"Skipping\", model_dir)\n",
    "        return None\n",
    "    tb_log = SummaryReader(events_file, pivot=True).scalars\n",
    "    \n",
    "    # Get the best point in term of val_f1 (dont look at ECE)\n",
    "    try:\n",
    "        tb_log = tb_log[tb_log.val_f1 == tb_log.val_f1.max()]\n",
    "    except:\n",
    "        print(model_dir)\n",
    "        return None\n",
    "    \n",
    "    # Extract key points\n",
    "    lam_sl = config['method_params']['lam_sl']\n",
    "    ds_size = config['ds_params'].get('size', 'Full')\n",
    "    ds_corr = config['ds_params'].get('corruption', 'identity')\n",
    "    acc = tb_log.val_acc.values[0]\n",
    "    ece = tb_log.val_ece.values[0]\n",
    "    f1 = tb_log.val_f1.values[0]\n",
    "    loss = tb_log.val_loss.values[0]\n",
    "    \n",
    "    return {\n",
    "        'lam_sl': lam_sl,\n",
    "        'ds_size': ds_size,\n",
    "        'ds_corr': ds_corr,\n",
    "        'acc': acc,\n",
    "        'ece': ece,\n",
    "        'f1': f1,\n",
    "        'loss': loss\n",
    "    }"
   ]
  },
  {
   "cell_type": "code",
   "execution_count": null,
   "metadata": {},
   "outputs": [],
   "source": [
    "rootdir = \"./../zoo/abl-alpha100-uniform/\"\n",
    "model_str = \"LeNet\"\n",
    "\n",
    "# rootdir = \"./../zoo/abl-alpha100-uniform-1000steps/\"\n",
    "# model_str = \"ConvNet\"\n",
    "\n",
    "# rootdir = \"./../zoo/abl-alpha100-unibin/\"\n",
    "# model_str = \"VGG11\""
   ]
  },
  {
   "cell_type": "code",
   "execution_count": null,
   "metadata": {},
   "outputs": [],
   "source": [
    "modeldirs = []\n",
    "for expdir in map(lambda x: os.path.join(rootdir, x), os.listdir(rootdir)):\n",
    "    _modeldirs = os.listdir(os.path.join(expdir, model_str))\n",
    "    modeldirs.extend(map(lambda x: os.path.join(expdir, model_str, x), _modeldirs))"
   ]
  },
  {
   "cell_type": "code",
   "execution_count": null,
   "metadata": {},
   "outputs": [],
   "source": [
    "# df_results = pd.DataFrame(filter(None, [extract_results(mdir) for mdir in modeldirs]))\n",
    "df_results = pd.DataFrame(filter(None, [extract_best_results(mdir) for mdir in modeldirs]))"
   ]
  },
  {
   "cell_type": "code",
   "execution_count": null,
   "metadata": {},
   "outputs": [],
   "source": [
    "df_results"
   ]
  },
  {
   "cell_type": "code",
   "execution_count": null,
   "metadata": {},
   "outputs": [],
   "source": [
    "agg_results = {}\n",
    "\n",
    "gdf_corr = df_results.groupby('ds_corr')\n",
    "for corr_str, gdf1 in gdf_corr:\n",
    "    agg_results[corr_str] = {}\n",
    "    gdf_ds = gdf1.groupby('ds_size')\n",
    "    \n",
    "    for ds_size, gdf2 in gdf_ds:\n",
    "        gdf_lam = gdf2.groupby('lam_sl')\n",
    "        \n",
    "        r = []\n",
    "        for lam_sl, _df in gdf_lam:\n",
    "            n = np.sqrt(_df.shape[0])\n",
    "\n",
    "            d = {\n",
    "                'lam_sl': lam_sl,\n",
    "                'acc_mean': _df.acc.mean(),\n",
    "                'acc_err': _df.acc.std() / n,\n",
    "                'ece_mean': _df.ece.mean(),\n",
    "                'ece_err': _df.ece.std() / n,\n",
    "                'f1_mean': _df.f1.mean(),\n",
    "                'f1_err': _df.f1.std() / n,\n",
    "                'loss_mean': _df.loss.mean(),\n",
    "                'loss_err': _df.loss.std() / n,\n",
    "            }\n",
    "            \n",
    "            r.append(d)\n",
    "        agg_results[corr_str][ds_size] = pd.DataFrame(r)"
   ]
  },
  {
   "cell_type": "code",
   "execution_count": null,
   "metadata": {},
   "outputs": [],
   "source": [
    "# agg_results = []\n",
    "\n",
    "# gdf = df_results.groupby('lam_sl')\n",
    "# for lam_sl, _df in gdf:\n",
    "#     n = np.sqrt(_df.shape[0])\n",
    "    \n",
    "#     d = {\n",
    "#         'lam_sl': lam_sl,\n",
    "#         'acc_mean': _df.acc.mean(),\n",
    "#         'acc_err': _df.acc.std() / n,\n",
    "#         'ece_mean': _df.ece.mean(),\n",
    "#         'ece_err': _df.ece.std() / n,\n",
    "#         'f1_mean': _df.f1.mean(),\n",
    "#         'f1_err': _df.f1.std() / n,\n",
    "#         'loss_mean': _df.loss.mean(),\n",
    "#         'loss_err': _df.loss.std() / n,\n",
    "#     }\n",
    "    \n",
    "#     agg_results.append(d)\n",
    "\n",
    "# df_agg = pd.DataFrame(agg_results)"
   ]
  },
  {
   "cell_type": "code",
   "execution_count": null,
   "metadata": {},
   "outputs": [],
   "source": [
    "agg_results"
   ]
  },
  {
   "cell_type": "code",
   "execution_count": null,
   "metadata": {},
   "outputs": [],
   "source": [
    "mfvi_results = pd.DataFrame({'lam_sl': {0: 0.0},\n",
    " 'acc_mean': {0: 0.8082399964332581},\n",
    " 'acc_err': {0: 0.0018123474110814655},\n",
    " 'ece_mean': {0: 0.04666510298848152},\n",
    " 'ece_err': {0: 0.005045091822872807},\n",
    " 'f1_mean': {0: 0.808240008354187},\n",
    " 'f1_err': {0: 0.0018123547451123277},\n",
    " 'loss_mean': {0: 0.8273083090782165},\n",
    " 'loss_err': {0: 0.030945931769120333}})"
   ]
  },
  {
   "cell_type": "code",
   "execution_count": null,
   "metadata": {},
   "outputs": [],
   "source": [
    "for corr_str in agg_results.keys():\n",
    "    fig, ax = plt.subplots(1, 2, figsize=(24, 6))\n",
    "\n",
    "    for ds_size, df_agg in agg_results[corr_str].items():\n",
    "\n",
    "#         df_agg = df_agg[df_agg.lam_sl < 0.01]\n",
    "\n",
    "        _ax = ax[0]\n",
    "        _ax.plot(df_agg.lam_sl, df_agg.acc_mean, label=ds_size)\n",
    "        _ax.fill_between(df_agg.lam_sl, df_agg.acc_mean + df_agg.acc_err, df_agg.acc_mean - df_agg.acc_err, alpha=0.5)\n",
    "        _ax.hlines(mfvi_results.acc_mean, df_agg.lam_sl.min(), df_agg.lam_sl.max(), \n",
    "                    ls=':', label=\"MFVI\")\n",
    "        _ax.set_xscale('log')\n",
    "        _ax.set_title('Accuracy')\n",
    "\n",
    "        _ax = ax[1]\n",
    "        _ax.plot(df_agg.lam_sl, df_agg.ece_mean, label=ds_size)\n",
    "        _ax.fill_between(df_agg.lam_sl, df_agg.ece_mean + df_agg.ece_err, df_agg.ece_mean - df_agg.ece_err, alpha=0.5)\n",
    "        _ax.hlines(mfvi_results.ece_mean, df_agg.lam_sl.min(), df_agg.lam_sl.max(),\n",
    "                    ls=':', label=\"MFVI\")\n",
    "        _ax.set_xscale('log')\n",
    "        _ax.set_yscale('log')\n",
    "        _ax.set_title('ECE')\n",
    "\n",
    "        # _ax = ax[2]\n",
    "        # _ax.plot(df_agg.lam_sl, df_agg.f1_mean, label=ds_size)\n",
    "        # _ax.fill_between(df_agg.lam_sl, df_agg.f1_mean + df_agg.f1_err, df_agg.f1_mean - df_agg.f1_err, alpha=0.5)\n",
    "        # _ax.set_xscale('log')\n",
    "        # _ax.set_title('F1')\n",
    "\n",
    "        # _ax = ax[3]\n",
    "        # _ax.plot(df_agg.lam_sl, df_agg.loss_mean, label=ds_size)\n",
    "        # _ax.fill_between(df_agg.lam_sl, df_agg.loss_mean + df_agg.loss_err, df_agg.loss_mean - df_agg.loss_err, alpha=0.5)\n",
    "        # _ax.set_xscale('log')\n",
    "        # _ax.set_title('Loss')\n",
    "\n",
    "    for _ax in ax:\n",
    "        _ax.legend()\n",
    "\n",
    "    plt.suptitle(\"Corruption - {}\".format(corr_str))"
   ]
  },
  {
   "cell_type": "markdown",
   "metadata": {},
   "source": [
    "## Normalized to first datapoint for each dataset size"
   ]
  },
  {
   "cell_type": "code",
   "execution_count": null,
   "metadata": {},
   "outputs": [],
   "source": [
    "for corr_str in agg_results.keys():\n",
    "    fig, ax = plt.subplots(1, 2, figsize=(24, 6))\n",
    "\n",
    "    for ds_size, df_agg in agg_results[corr_str].items():\n",
    "\n",
    "#         df_agg = df_agg[df_agg.lam_sl < 0.01]\n",
    "\n",
    "        _ax = ax[0]\n",
    "        y = df_agg.acc_mean / mfvi_results.acc_mean.values[0]\n",
    "        _ax.plot(df_agg.lam_sl, y, label=ds_size, marker='o')\n",
    "#         _ax.fill_between(df_agg.lam_sl, df_agg.acc_mean + df_agg.acc_err, df_agg.acc_mean - df_agg.acc_err, alpha=0.5)\n",
    "        _ax.set_xscale('log')\n",
    "        _ax.set_ylabel('Normalized Accuracy')\n",
    "        _ax.set_title('Accuracy')\n",
    "\n",
    "        _ax = ax[1]\n",
    "        y = df_agg.ece_mean / mfvi_results.ece_mean.values[0]\n",
    "        _ax.plot(df_agg.lam_sl, y, label=ds_size, marker='o')\n",
    "#         _ax.fill_between(df_agg.lam_sl, df_agg.ece_mean + df_agg.ece_err, df_agg.ece_mean - df_agg.ece_err, alpha=0.5)\n",
    "        _ax.set_xscale('log')\n",
    "        _ax.set_yscale('log')\n",
    "        _ax.set_ylabel('Normalized ECE')\n",
    "        _ax.set_title('ECE')\n",
    "\n",
    "        # _ax = ax[2]\n",
    "        # _ax.plot(df_agg.lam_sl, df_agg.f1_mean, label=ds_size)\n",
    "        # _ax.fill_between(df_agg.lam_sl, df_agg.f1_mean + df_agg.f1_err, df_agg.f1_mean - df_agg.f1_err, alpha=0.5)\n",
    "        # _ax.set_xscale('log')\n",
    "        # _ax.set_title('F1')\n",
    "\n",
    "        # _ax = ax[3]\n",
    "        # _ax.plot(df_agg.lam_sl, df_agg.loss_mean, label=ds_size)\n",
    "        # _ax.fill_between(df_agg.lam_sl, df_agg.loss_mean + df_agg.loss_err, df_agg.loss_mean - df_agg.loss_err, alpha=0.5)\n",
    "        # _ax.set_xscale('log')\n",
    "        # _ax.set_title('Loss')\n",
    "\n",
    "    for _ax in ax:\n",
    "        _ax.legend()\n",
    "\n",
    "    plt.suptitle(\"Corruption - {}\".format(corr_str))"
   ]
  },
  {
   "cell_type": "markdown",
   "metadata": {},
   "source": [
    "Print latex table"
   ]
  },
  {
   "cell_type": "code",
   "execution_count": null,
   "metadata": {},
   "outputs": [],
   "source": [
    "def print_latex_table(df_agg):\n",
    "    for cor, r in df_agg.items():\n",
    "        for ds, df in r.items():\n",
    "            print(cor, ds)\n",
    "            \n",
    "            str = ''\n",
    "            str = \" & \".join('$10^{{{}}}$'.format(int(np.log10(v))) for v in df.lam_sl.values)\n",
    "            print(str)\n",
    "            \n",
    "            # Print acc\n",
    "            str = []\n",
    "            for m, v in zip(df.acc_mean.values, df.acc_err.values):\n",
    "                str.append('${:.3f}\\pm{:.3f}$'.format(m, v))\n",
    "            str = ' & '.join(str)\n",
    "            print(str)\n",
    "            \n",
    "            # Print ECE\n",
    "            str = []\n",
    "            for m, v in zip(df.ece_mean.values, df.ece_err.values):\n",
    "                str.append('${:.3f}\\pm{:.3f}$'.format(m, v))\n",
    "            str = ' & '.join(str)\n",
    "            print(str)\n",
    "        print(\"------\")\n",
    "            \n",
    "            "
   ]
  },
  {
   "cell_type": "code",
   "execution_count": null,
   "metadata": {},
   "outputs": [],
   "source": [
    "print_latex_table(agg_results)"
   ]
  },
  {
   "cell_type": "code",
   "execution_count": null,
   "metadata": {},
   "outputs": [],
   "source": [
    "def print_latex_table(df_agg):\n",
    "    for cor, r in df_agg.items():\n",
    "        for ds, df in r.items():\n",
    "            print(cor, ds)\n",
    "            for _, v in df.iterrows():\n",
    "                buff = []\n",
    "                \n",
    "                buff.append(\"$10^{{{}}}$\".format(int(np.log10(v.lam_sl))))\n",
    "                buff.append('${:.3f}\\pm{:.3f}$'.format(v.acc_mean, v.acc_err))\n",
    "                buff.append('${:.3f}\\pm{:.3f}$'.format(v.ece_mean, v.ece_err))\n",
    "                \n",
    "                buff = ' & '.join(buff) + ' \\\\\\\\'\n",
    "                print(buff)\n",
    "        print(\"--------\")\n",
    "            "
   ]
  },
  {
   "cell_type": "code",
   "execution_count": null,
   "metadata": {},
   "outputs": [],
   "source": [
    "print_latex_table(agg_results)"
   ]
  },
  {
   "cell_type": "code",
   "execution_count": null,
   "metadata": {},
   "outputs": [],
   "source": []
  }
 ],
 "metadata": {
  "kernelspec": {
   "display_name": "Python (Bayes)",
   "language": "python",
   "name": "bayes"
  },
  "language_info": {
   "codemirror_mode": {
    "name": "ipython",
    "version": 3
   },
   "file_extension": ".py",
   "mimetype": "text/x-python",
   "name": "python",
   "nbconvert_exporter": "python",
   "pygments_lexer": "ipython3",
   "version": "3.9.7"
  }
 },
 "nbformat": 4,
 "nbformat_minor": 4
}
