{
 "cells": [
  {
   "cell_type": "markdown",
   "metadata": {},
   "source": [
    "# Analyze models predictions\n",
    "\n",
    "Analysze the models predictions"
   ]
  },
  {
   "cell_type": "code",
   "execution_count": null,
   "metadata": {},
   "outputs": [],
   "source": [
    "import sys\n",
    "sys.path.append(\"./../\")"
   ]
  },
  {
   "cell_type": "code",
   "execution_count": null,
   "metadata": {},
   "outputs": [],
   "source": [
    "import os\n",
    "import json\n",
    "import glob\n",
    "\n",
    "import numpy as np\n",
    "import torch\n",
    "from torch.utils.data import DataLoader\n",
    "\n",
    "import methods\n",
    "import models\n",
    "import datasets\n",
    "import transforms\n",
    "\n",
    "import matplotlib.pyplot as plt\n",
    "# plt.style.use('seaborn')"
   ]
  },
  {
   "cell_type": "code",
   "execution_count": null,
   "metadata": {},
   "outputs": [],
   "source": [
    "def get_predictions(model, dataset, N=10):\n",
    "    dataloader = DataLoader(dataset, batch_size=1024, shuffle=False)\n",
    "    torch.manual_seed(42)\n",
    "\n",
    "    # Get predictions from model\n",
    "    ypreds = []\n",
    "    with torch.no_grad():\n",
    "        for x, y in dataloader:\n",
    "            _ypreds, _ = model.sample_predictions(x, n=N)\n",
    "            if ypreds:\n",
    "                for i in range(N):\n",
    "                    ypreds[i] = torch.cat((ypreds[i], _ypreds[i]), dim=0)\n",
    "            else:\n",
    "                for y2 in _ypreds:\n",
    "                    # y2 is a tensor of shape (B, K)\n",
    "                    ypreds.append(y2)\n",
    "\n",
    "    # Convert to softmax score from log_softmax\n",
    "    yprobs = [torch.exp(_ypreds) for _ypreds in ypreds]\n",
    "    \n",
    "    return yprobs"
   ]
  },
  {
   "cell_type": "markdown",
   "metadata": {},
   "source": [
    "Edit `model_dir` variable to point to the model you want."
   ]
  },
  {
   "cell_type": "code",
   "execution_count": null,
   "metadata": {},
   "outputs": [],
   "source": [
    "# model_dir = \"./../zoo/experiments-termwise-ablation/BinaryMNISTC-53-identity/LeNet/term-all-beta1010-20220402213949/\"\n",
    "model_dir = \"./../zoo/experiments-termwise-ablation/BinaryMNISTC-53-identity/LeNet/term_1_3-20220402202026/\"\n",
    "# Default paths\n",
    "config_json = os.path.join(model_dir, \"config.json\")\n",
    "ckpt_file = glob.glob(model_dir + '/step=*.ckpt')[-1]\n",
    "\n",
    "config = json.load(open(config_json, 'r'))\n",
    "\n",
    "MethodClass = getattr(methods, config['method'])\n",
    "DatasetClass = getattr(datasets, config['dataset']) # Will automatically detect the dataset for testing\n",
    "ModelClass = getattr(models, config['model'])\n",
    "TransformClass = getattr(transforms, config['transform'])\n",
    "\n",
    "testset = DatasetClass(**config['ds_params'], split='test', transform=TransformClass())\n",
    "K = testset.n_labels\n",
    "\n",
    "model = MethodClass.load_from_checkpoint(ckpt_file, model=ModelClass(K), strict=False)"
   ]
  },
  {
   "cell_type": "markdown",
   "metadata": {},
   "source": [
    "## Get predictions from model\n",
    "\n",
    "You can sample multiple predictions from the model for each realization of parameters by setting $N$. The returned\n",
    "variable will be a list with $N$ entries, corresponding to each realizations. If you want average over all realization,\n",
    "you can average over the list entries."
   ]
  },
  {
   "cell_type": "markdown",
   "metadata": {},
   "source": [
    "## select images"
   ]
  },
  {
   "cell_type": "code",
   "execution_count": null,
   "metadata": {},
   "outputs": [],
   "source": [
    "torch.manual_seed(24)\n",
    "batch_size = 1000\n",
    "dataloader = DataLoader(testset, batch_size=batch_size, shuffle=False)\n",
    "batch = next(iter(dataloader))\n",
    "sample_images, sample_target = batch\n",
    "from sklearn.manifold import TSNE\n",
    "X = sample_images.reshape(batch_size,-1).numpy()\n",
    "X_embedded = TSNE(n_components=2, learning_rate='auto', init='random').fit_transform(X)\n",
    "x = X_embedded[:,0]; y = X_embedded[:,1]"
   ]
  },
  {
   "cell_type": "markdown",
   "metadata": {},
   "source": [
    "## plot"
   ]
  },
  {
   "cell_type": "code",
   "execution_count": null,
   "metadata": {},
   "outputs": [],
   "source": [
    "# model_dir = \"./../zoo/experiments-termwise-ablation/BinaryMNISTC-53-identity/LeNet/term-all-beta1010-20220402213949/\"\n",
    "model_dir = \"models/term_1_3-20220402202026/\"\n",
    "# Default paths\n",
    "config_json = os.path.join(model_dir, \"config.json\")\n",
    "ckpt_file = glob.glob(model_dir + '/step=*.ckpt')[-1]\n",
    "\n",
    "config = json.load(open(config_json, 'r'))\n",
    "\n",
    "MethodClass = getattr(methods, config['method'])\n",
    "DatasetClass = getattr(datasets, config['dataset']) # Will automatically detect the dataset for testing\n",
    "ModelClass = getattr(models, config['model'])\n",
    "TransformClass = getattr(transforms, config['transform'])\n",
    "\n",
    "testset = DatasetClass(**config['ds_params'], split='test', transform=TransformClass())\n",
    "K = testset.n_labels\n",
    "\n",
    "model_1 = MethodClass.load_from_checkpoint(ckpt_file, model=ModelClass(K), strict=False)\n",
    "torch.manual_seed(24)\n",
    "_ypreds, _ = model_1.sample_predictions(sample_images, n=1)\n",
    "yprobs = torch.exp(_ypreds[0].detach())\n",
    "z_1 = yprobs[:,1].numpy()"
   ]
  },
  {
   "cell_type": "code",
   "execution_count": null,
   "metadata": {},
   "outputs": [],
   "source": [
    "# model_dir = \"./../zoo/experiments-termwise-ablation/BinaryMNISTC-53-identity/LeNet/term-all-beta1010-20220402213949/\"\n",
    "model_dir = \"models/term-all-beta0101-20220402214708/\"\n",
    "# Default paths\n",
    "config_json = os.path.join(model_dir, \"config.json\")\n",
    "ckpt_file = glob.glob(model_dir + '/step=*.ckpt')[-1]\n",
    "\n",
    "config = json.load(open(config_json, 'r'))\n",
    "\n",
    "MethodClass = getattr(methods, config['method'])\n",
    "DatasetClass = getattr(datasets, config['dataset']) # Will automatically detect the dataset for testing\n",
    "ModelClass = getattr(models, config['model'])\n",
    "TransformClass = getattr(transforms, config['transform'])\n",
    "\n",
    "testset = DatasetClass(**config['ds_params'], split='test', transform=TransformClass())\n",
    "K = testset.n_labels\n",
    "\n",
    "model_2 = MethodClass.load_from_checkpoint(ckpt_file, model=ModelClass(K), strict=False)\n",
    "torch.manual_seed(24)\n",
    "_ypreds, _ = model_2.sample_predictions(sample_images, n=1)\n",
    "yprobs = torch.exp(_ypreds[0].detach())\n",
    "z_2 = yprobs[:,1].numpy()"
   ]
  },
  {
   "cell_type": "code",
   "execution_count": null,
   "metadata": {},
   "outputs": [],
   "source": [
    "# model_dir = \"./../zoo/experiments-termwise-ablation/BinaryMNISTC-53-identity/LeNet/term-all-beta1010-20220402213949/\"\n",
    "model_dir = \"models/term-all-beta1010-20220402213949/\"\n",
    "# Default paths\n",
    "config_json = os.path.join(model_dir, \"config.json\")\n",
    "ckpt_file = glob.glob(model_dir + '/step=*.ckpt')[-1]\n",
    "\n",
    "config = json.load(open(config_json, 'r'))\n",
    "\n",
    "MethodClass = getattr(methods, config['method'])\n",
    "DatasetClass = getattr(datasets, config['dataset']) # Will automatically detect the dataset for testing\n",
    "ModelClass = getattr(models, config['model'])\n",
    "TransformClass = getattr(transforms, config['transform'])\n",
    "\n",
    "testset = DatasetClass(**config['ds_params'], split='test', transform=TransformClass())\n",
    "K = testset.n_labels\n",
    "\n",
    "model_3 = MethodClass.load_from_checkpoint(ckpt_file, model=ModelClass(K), strict=False)\n",
    "torch.manual_seed(24)\n",
    "_ypreds, _ = model_3.sample_predictions(sample_images, n=1)\n",
    "yprobs = torch.exp(_ypreds[0].detach())\n",
    "z_3 = yprobs[:,1].numpy()"
   ]
  },
  {
   "cell_type": "code",
   "execution_count": null,
   "metadata": {},
   "outputs": [],
   "source": [
    "# model_dir = \"./../zoo/experiments-termwise-ablation/BinaryMNISTC-53-identity/LeNet/term-all-beta1010-20220402213949/\"\n",
    "model_dir = \"models/term-all-beta5050-20220402213330/\"\n",
    "# Default paths\n",
    "config_json = os.path.join(model_dir, \"config.json\")\n",
    "ckpt_file = glob.glob(model_dir + '/step=*.ckpt')[-1]\n",
    "\n",
    "config = json.load(open(config_json, 'r'))\n",
    "\n",
    "MethodClass = getattr(methods, config['method'])\n",
    "DatasetClass = getattr(datasets, config['dataset']) # Will automatically detect the dataset for testing\n",
    "ModelClass = getattr(models, config['model'])\n",
    "TransformClass = getattr(transforms, config['transform'])\n",
    "\n",
    "testset = DatasetClass(**config['ds_params'], split='test', transform=TransformClass())\n",
    "K = testset.n_labels\n",
    "\n",
    "model_4 = MethodClass.load_from_checkpoint(ckpt_file, model=ModelClass(K), strict=False)\n",
    "torch.manual_seed(24)\n",
    "_ypreds, _ = model_4.sample_predictions(sample_images, n=1)\n",
    "yprobs = torch.exp(_ypreds[0].detach())\n",
    "z_4 = yprobs[:,1].numpy()"
   ]
  },
  {
   "cell_type": "code",
   "execution_count": null,
   "metadata": {},
   "outputs": [],
   "source": [
    "fig_l, axes_l = plt.subplots(nrows = 1, ncols = 4, figsize = (16, 3))\n",
    "ax_00, ax_01, ax_02, ax_03= axes_l.flatten()\n",
    "\n",
    "ax_00.tricontour(x, y, z_1, levels=14, linewidths=0.5, colors='k')\n",
    "cntr2 = ax_00.tricontourf(x, y, z_1, levels=14, cmap=\"RdBu_r\")\n",
    "# fig_l.colorbar(cntr2, ax=ax_00)\n",
    "# ax_00.set(xlim=(-10, 10), ylim=(-20, 0))\n",
    "# ax_00.plot(x, y, 'ko', ms=3)\n",
    "\n",
    "\n",
    "ax_01.tricontour(x, y, z_2, levels=14, linewidths=0.5, colors='k')\n",
    "cntr2 = ax_01.tricontourf(x, y, z_2, levels=14, cmap=\"RdBu_r\")\n",
    "# fig_l.colorbar(cntr2, ax=ax_01)\n",
    "# ax_01.set(xlim=(-10, 10), ylim=(-20, 0))\n",
    "# ax_01.plot(x, y, 'ko', ms=3)\n",
    "\n",
    "ax_02.tricontour(x, y, z_3, levels=14, linewidths=0.5, colors='k')\n",
    "cntr2 = ax_02.tricontourf(x, y, z_3, levels=14, cmap=\"RdBu_r\")\n",
    "# fig_l.colorbar(cntr2, ax=ax_01)\n",
    "# ax_02.set(xlim=(-10, 10), ylim=(-20, 0))\n",
    "# ax_02.plot(x, y, 'ko', ms=3)\n",
    "\n",
    "ax_03.tricontour(x, y, z_4, levels=14, linewidths=0.5, colors='k')\n",
    "cntr2 = ax_03.tricontourf(x, y, z_4, levels=14, cmap=\"RdBu_r\")\n",
    "# fig_l.colorbar(cntr2, ax=ax_01)\n",
    "# ax_03.set(xlim=(-10, 10), ylim=(-20, 0))\n",
    "# ax_03.plot(x, y, 'ko', ms=3)"
   ]
  },
  {
   "cell_type": "code",
   "execution_count": null,
   "metadata": {},
   "outputs": [],
   "source": [
    "fig_l, axes_l = plt.subplots(nrows = 1, ncols = 4, figsize = (18, 3))\n",
    "ax_00, ax_01, ax_02, ax_03= axes_l.flatten()\n",
    "\n",
    "xlim = (-20,20); ylim = (-20,20)\n",
    "\n",
    "levels = 13; ms = 1\n",
    "\n",
    "ax_00.tricontour(x, y, z_1, levels=levels, linewidths=0.5, colors='k')\n",
    "cntr2 = ax_00.tricontourf(x, y, z_1, levels=levels, cmap=\"RdBu_r\")\n",
    "fig_l.colorbar(cntr2, ax=ax_00)\n",
    "ax_00.set(xlim=xlim, ylim=ylim)\n",
    "ax_00.plot(x, y, 'ko', ms=ms)\n",
    "\n",
    "\n",
    "ax_01.tricontour(x, y, z_2, levels=levels, linewidths=0.5, colors='k')\n",
    "cntr2 = ax_01.tricontourf(x, y, z_2, levels=levels, cmap=\"RdBu_r\")\n",
    "fig_l.colorbar(cntr2, ax=ax_01)\n",
    "ax_01.set(xlim=xlim, ylim=ylim)\n",
    "ax_01.plot(x, y, 'ko', ms=ms)\n",
    "\n",
    "ax_02.tricontour(x, y, z_3, levels=levels, linewidths=0.5, colors='k')\n",
    "cntr2 = ax_02.tricontourf(x, y, z_3, levels=levels, cmap=\"RdBu_r\")\n",
    "fig_l.colorbar(cntr2, ax=ax_02)\n",
    "ax_02.set(xlim=xlim, ylim=ylim)\n",
    "ax_02.plot(x, y, 'ko', ms=ms)\n",
    "\n",
    "ax_03.tricontour(x, y, z_4, levels=levels, linewidths=0.5, colors='k')\n",
    "cntr2 = ax_03.tricontourf(x, y, z_4, levels=levels, cmap=\"RdBu_r\")\n",
    "fig_l.colorbar(cntr2, ax=ax_03)\n",
    "ax_03.set(xlim=xlim, ylim=ylim)\n",
    "ax_03.plot(x, y, 'ko', ms=ms)"
   ]
  },
  {
   "cell_type": "code",
   "execution_count": null,
   "metadata": {},
   "outputs": [],
   "source": []
  }
 ],
 "metadata": {
  "interpreter": {
   "hash": "2cc81e65ac001079a8dbd6b9a2e1804ae2bdf52e129f39c92608ef96e247326a"
  },
  "kernelspec": {
   "display_name": "Python (module anaconda)",
   "language": "python",
   "name": "python3"
  },
  "language_info": {
   "codemirror_mode": {
    "name": "ipython",
    "version": 3
   },
   "file_extension": ".py",
   "mimetype": "text/x-python",
   "name": "python",
   "nbconvert_exporter": "python",
   "pygments_lexer": "ipython3",
   "version": "3.9.13"
  }
 },
 "nbformat": 4,
 "nbformat_minor": 4
}
