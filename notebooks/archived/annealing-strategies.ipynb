{
 "cells": [
  {
   "cell_type": "markdown",
   "metadata": {},
   "source": [
    "# Annealing strategies "
   ]
  },
  {
   "cell_type": "code",
   "execution_count": null,
   "metadata": {},
   "outputs": [],
   "source": [
    "import numpy as np\n",
    "import matplotlib.pyplot as plt\n",
    "plt.style.use('seaborn')"
   ]
  },
  {
   "cell_type": "markdown",
   "metadata": {},
   "source": [
    "## Strategy 1\n",
    "\n",
    "$$\n",
    "\n",
    "\\frac{exp \\left( \\tau * \\frac{t}{T} \\right)}{exp (\\tau)}\n",
    "\n",
    "$$"
   ]
  },
  {
   "cell_type": "code",
   "execution_count": null,
   "metadata": {},
   "outputs": [],
   "source": [
    "T = 1000\n",
    "t = np.arange(T)"
   ]
  },
  {
   "cell_type": "code",
   "execution_count": null,
   "metadata": {},
   "outputs": [],
   "source": [
    "tau = 0\n",
    "y0 = np.exp(tau * t / T) / np.exp(tau)\n",
    "\n",
    "tau = 1\n",
    "y1 = np.exp(tau * t / T) / np.exp(tau)\n",
    "\n",
    "tau = 10\n",
    "y2 = np.exp(tau * t / T) / np.exp(tau)\n",
    "\n",
    "\n",
    "fig = plt.figure(figsize=(12, 6))\n",
    "plt.plot(t, y0, label=\"0.0\")\n",
    "plt.plot(t, y1, label=\"1.0\")\n",
    "plt.plot(t, y2, label=\"10.0\")\n",
    "plt.legend()"
   ]
  },
  {
   "cell_type": "markdown",
   "metadata": {},
   "source": [
    "## Strategy 2\n",
    "\n",
    "$$\n",
    "\\frac{t}{T}\n",
    "$$"
   ]
  },
  {
   "cell_type": "code",
   "execution_count": null,
   "metadata": {},
   "outputs": [],
   "source": [
    "y0 = t / T\n",
    "\n",
    "fig = plt.figure(figsize=(12, 6))\n",
    "plt.plot(y0, y0)"
   ]
  },
  {
   "cell_type": "markdown",
   "metadata": {},
   "source": [
    "## Strategy 3\n",
    "\n",
    "$$\n",
    "\n",
    "\\frac{exp \\left( \\tau * \\frac{t}{T} \\right) - 1}{exp (\\tau) - 1}\n",
    "\n",
    "$$"
   ]
  },
  {
   "cell_type": "code",
   "execution_count": null,
   "metadata": {},
   "outputs": [],
   "source": [
    "tau = 0.001\n",
    "y0 = (np.exp(tau * t / T) - 1.0 + 1e-5) / (np.exp(tau) - 1.0 + 1e-5)\n",
    "\n",
    "tau = 1\n",
    "y1 = (np.exp(tau * t / T) - 1.0) / (np.exp(tau) - 1.0)\n",
    "\n",
    "tau = 10\n",
    "y2 = (np.exp(tau * t / T) - 1.0) / (np.exp(tau) - 1.0)\n",
    "\n",
    "\n",
    "fig = plt.figure(figsize=(12, 6))\n",
    "plt.plot(t, y0, label=\"0.01\")\n",
    "plt.plot(t, y1, label=\"1.0\")\n",
    "plt.plot(t, y2, label=\"10.0\")\n",
    "plt.legend()"
   ]
  },
  {
   "cell_type": "code",
   "execution_count": null,
   "metadata": {},
   "outputs": [],
   "source": []
  }
 ],
 "metadata": {
  "interpreter": {
   "hash": "2cc81e65ac001079a8dbd6b9a2e1804ae2bdf52e129f39c92608ef96e247326a"
  },
  "kernelspec": {
   "display_name": "Python 3.9.7 ('bdl')",
   "language": "python",
   "name": "python3"
  },
  "language_info": {
   "codemirror_mode": {
    "name": "ipython",
    "version": 3
   },
   "file_extension": ".py",
   "mimetype": "text/x-python",
   "name": "python",
   "nbconvert_exporter": "python",
   "pygments_lexer": "ipython3",
   "version": "3.9.7"
  },
  "orig_nbformat": 4
 },
 "nbformat": 4,
 "nbformat_minor": 2
}
