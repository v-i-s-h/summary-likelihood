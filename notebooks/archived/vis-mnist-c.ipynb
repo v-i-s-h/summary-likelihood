{
 "cells": [
  {
   "cell_type": "markdown",
   "metadata": {},
   "source": [
    "# Visualize MNIST C dataset"
   ]
  },
  {
   "cell_type": "code",
   "execution_count": null,
   "metadata": {},
   "outputs": [],
   "source": [
    "import sys\n",
    "sys.path.append(\"./../\") # Include repo root directory"
   ]
  },
  {
   "cell_type": "code",
   "execution_count": null,
   "metadata": {},
   "outputs": [],
   "source": [
    "import numpy as np\n",
    "import matplotlib.pyplot as plt\n",
    "\n",
    "from datasets import BinaryMNISTC"
   ]
  },
  {
   "cell_type": "code",
   "execution_count": null,
   "metadata": {},
   "outputs": [],
   "source": [
    "labels = \"35\"\n",
    "N = 6\n",
    "idx = np.random.choice(1000, N) # indices of samples"
   ]
  },
  {
   "cell_type": "code",
   "execution_count": null,
   "metadata": {},
   "outputs": [],
   "source": [
    "samples = {}\n",
    "\n",
    "for corr in BinaryMNISTC.corruptions:\n",
    "    ds = BinaryMNISTC(labels, corr, 'train')\n",
    "    _samples = ds[idx][0]\n",
    "    samples[corr] = _samples"
   ]
  },
  {
   "cell_type": "code",
   "execution_count": null,
   "metadata": {},
   "outputs": [],
   "source": [
    "K = len(samples)\n",
    "fig, ax = plt.subplots(N, K, figsize=(2*K, 2*N))\n",
    "\n",
    "for i, corr in enumerate(BinaryMNISTC.corruptions):\n",
    "    for j in range(N):\n",
    "        ax[j][i].imshow(samples[corr][j])\n",
    "        ax[j][i].set_axis_off()\n",
    "    ax[0][i].set_title(corr)\n",
    "\n",
    "# plt.savefig(\"./mnistc.png\", bbox_inches='tight')"
   ]
  },
  {
   "cell_type": "code",
   "execution_count": null,
   "metadata": {},
   "outputs": [],
   "source": []
  }
 ],
 "metadata": {
  "interpreter": {
   "hash": "389ff276a2f12413f043c7723ae0ec8183b12b79c58f6d931a7b5a593ab91829"
  },
  "kernelspec": {
   "display_name": "Python 3.8.5 ('e54ecce8')",
   "language": "python",
   "name": "python3"
  },
  "language_info": {
   "codemirror_mode": {
    "name": "ipython",
    "version": 3
   },
   "file_extension": ".py",
   "mimetype": "text/x-python",
   "name": "python",
   "nbconvert_exporter": "python",
   "pygments_lexer": "ipython3",
   "version": "3.8.5"
  },
  "orig_nbformat": 4
 },
 "nbformat": 4,
 "nbformat_minor": 2
}
