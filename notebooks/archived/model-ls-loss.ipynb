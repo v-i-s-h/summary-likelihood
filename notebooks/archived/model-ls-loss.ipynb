{
 "cells": [
  {
   "cell_type": "markdown",
   "metadata": {},
   "source": [
    "# Label SMoothing\n"
   ]
  },
  {
   "cell_type": "code",
   "execution_count": 1,
   "metadata": {},
   "outputs": [],
   "source": [
    "import sys\n",
    "sys.path.append(\"./../\")"
   ]
  },
  {
   "cell_type": "code",
   "execution_count": 5,
   "metadata": {},
   "outputs": [],
   "source": [
    "import torch\n",
    "\n",
    "import models\n",
    "import datasets\n",
    "import transforms\n",
    "\n",
    "from torch.utils.data import DataLoader"
   ]
  },
  {
   "cell_type": "code",
   "execution_count": 6,
   "metadata": {},
   "outputs": [],
   "source": [
    "input_size = (100, 1, 28, 28)\n",
    "tx = transforms.normalize_x()\n",
    "ds = datasets.BinaryMNISTC(53, 'identity', 'train', transform=tx)\n",
    "\n",
    "dl = DataLoader(dataset=ds, batch_size=32, shuffle=True)"
   ]
  },
  {
   "cell_type": "code",
   "execution_count": 11,
   "metadata": {},
   "outputs": [],
   "source": [
    "x, target = next(iter(dl))\n",
    "model = models.LeNet(K=2, prior_sigma=0.1, posterior_rho_init=-1)\n",
    "ypred, kl_loss = model(x)"
   ]
  },
  {
   "cell_type": "code",
   "execution_count": 21,
   "metadata": {},
   "outputs": [],
   "source": [
    "nll_loss = -ypred.gather(dim=-1, index=target.unsqueeze(1)).squeeze(1)\n",
    "smooth_loss = -ypred.mean(dim=-1)"
   ]
  },
  {
   "cell_type": "code",
   "execution_count": 22,
   "metadata": {},
   "outputs": [
    {
     "data": {
      "text/plain": [
       "tensor([36.7854,  7.1184, 15.2606, 28.8313, 25.7077, 10.0303, 18.5473, 40.2448,\n",
       "        16.7263, 11.2532, 22.4230, 10.1010, 19.8924,  5.8318, 13.9267, 15.8486,\n",
       "         6.5054, 23.6443, 39.5274, 28.4819, 36.2169,  2.5248, 13.4416, 23.0296,\n",
       "        21.8414, 39.5717, 26.2512, 29.2133, 14.8358, 17.9428, 52.4373, 23.2221],\n",
       "       grad_fn=<NegBackward0>)"
      ]
     },
     "execution_count": 22,
     "metadata": {},
     "output_type": "execute_result"
    }
   ],
   "source": [
    "smooth_loss"
   ]
  },
  {
   "cell_type": "code",
   "execution_count": 24,
   "metadata": {},
   "outputs": [
    {
     "data": {
      "text/plain": [
       "tensor([[ 0.0000e+00, -7.3571e+01],\n",
       "        [-7.1526e-07, -1.4237e+01],\n",
       "        [ 0.0000e+00, -3.0521e+01],\n",
       "        [ 0.0000e+00, -5.7663e+01],\n",
       "        [ 0.0000e+00, -5.1415e+01],\n",
       "        [-2.0061e+01,  0.0000e+00],\n",
       "        [ 0.0000e+00, -3.7095e+01],\n",
       "        [ 0.0000e+00, -8.0490e+01],\n",
       "        [-3.3453e+01,  0.0000e+00],\n",
       "        [ 0.0000e+00, -2.2506e+01],\n",
       "        [ 0.0000e+00, -4.4846e+01],\n",
       "        [ 0.0000e+00, -2.0202e+01],\n",
       "        [ 0.0000e+00, -3.9785e+01],\n",
       "        [-8.5830e-06, -1.1664e+01],\n",
       "        [ 0.0000e+00, -2.7853e+01],\n",
       "        [ 0.0000e+00, -3.1697e+01],\n",
       "        [-2.2650e-06, -1.3011e+01],\n",
       "        [ 0.0000e+00, -4.7289e+01],\n",
       "        [ 0.0000e+00, -7.9055e+01],\n",
       "        [ 0.0000e+00, -5.6964e+01],\n",
       "        [ 0.0000e+00, -7.2434e+01],\n",
       "        [-5.0431e+00, -6.4747e-03],\n",
       "        [ 0.0000e+00, -2.6883e+01],\n",
       "        [ 0.0000e+00, -4.6059e+01],\n",
       "        [ 0.0000e+00, -4.3683e+01],\n",
       "        [ 0.0000e+00, -7.9143e+01],\n",
       "        [ 0.0000e+00, -5.2502e+01],\n",
       "        [ 0.0000e+00, -5.8427e+01],\n",
       "        [ 0.0000e+00, -2.9672e+01],\n",
       "        [ 0.0000e+00, -3.5886e+01],\n",
       "        [ 0.0000e+00, -1.0487e+02],\n",
       "        [ 0.0000e+00, -4.6444e+01]], grad_fn=<LogSoftmaxBackward0>)"
      ]
     },
     "execution_count": 24,
     "metadata": {},
     "output_type": "execute_result"
    }
   ],
   "source": [
    "ypred"
   ]
  },
  {
   "cell_type": "code",
   "execution_count": null,
   "metadata": {},
   "outputs": [],
   "source": []
  }
 ],
 "metadata": {
  "interpreter": {
   "hash": "2cc81e65ac001079a8dbd6b9a2e1804ae2bdf52e129f39c92608ef96e247326a"
  },
  "kernelspec": {
   "display_name": "Python (Bayes)",
   "language": "python",
   "name": "bayes"
  },
  "language_info": {
   "codemirror_mode": {
    "name": "ipython",
    "version": 3
   },
   "file_extension": ".py",
   "mimetype": "text/x-python",
   "name": "python",
   "nbconvert_exporter": "python",
   "pygments_lexer": "ipython3",
   "version": "3.9.7"
  }
 },
 "nbformat": 4,
 "nbformat_minor": 4
}
