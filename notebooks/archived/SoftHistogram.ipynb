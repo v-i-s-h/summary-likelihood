{
 "cells": [
  {
   "cell_type": "code",
   "execution_count": null,
   "metadata": {},
   "outputs": [],
   "source": [
    "import torch\n",
    "import torch.nn as nn\n",
    "import torch.nn.functional as F\n",
    "\n",
    "import numpy as np\n",
    "import scipy.stats as st\n",
    "from scipy.special import betainc\n",
    "from scipy.optimize import minimize"
   ]
  },
  {
   "cell_type": "code",
   "execution_count": null,
   "metadata": {},
   "outputs": [],
   "source": [
    "class MultiSoftHistogram(nn.Module):\n",
    "    \"\"\"\n",
    "        Create soft histogram from samples\n",
    "    \"\"\"\n",
    "    def __init__(self, threshold_1, threshold_2, sigma = 500):\n",
    "        \"\"\"\n",
    "        Parameters\n",
    "        ----------\n",
    "        threshold_1 : float\n",
    "            first softmax threshold\n",
    "        threshold_2 : float\n",
    "            second softmax threshold\n",
    "        sigma : float\n",
    "            Slope of sigmoid\n",
    "        \"\"\"\n",
    "        super().__init__()\n",
    "        self.threshold_1 = threshold_1\n",
    "        self.threshold_2 = threshold_2\n",
    "        self.sigma = sigma\n",
    "\n",
    "    def forward(self, x):\n",
    "        \"\"\"Computes soft histogram\"\"\"\n",
    "        high_hist = self.higher_than_threshold_1(x)\n",
    "        middle_hist = self.between_threshold_1_and_2(x)\n",
    "        low_hist = 1. - high_hist.sum(dim=1).reshape(-1,1) - middle_hist.sum(dim=1).reshape(-1,1)\n",
    "\n",
    "        x = torch.cat((high_hist, middle_hist, low_hist), 1)\n",
    "        x = x.sum(0) / x.sum()\n",
    "\n",
    "        return x\n",
    "    \n",
    "    def higher_than_threshold_1(self,x):\n",
    "        return torch.sigmoid(self.sigma * (x - self.threshold_1))\n",
    "    \n",
    "    def between_threshold_1_and_2(self,x):\n",
    "        return torch.sigmoid(self.sigma * (x - self.threshold_2)) - torch.sigmoid(self.sigma * (x - self.threshold_1))"
   ]
  },
  {
   "cell_type": "code",
   "execution_count": null,
   "metadata": {},
   "outputs": [],
   "source": [
    "msh = MultiSoftHistogram(threshold_1 = 0.95, threshold_2 = 0.8)"
   ]
  },
  {
   "cell_type": "code",
   "execution_count": null,
   "metadata": {},
   "outputs": [],
   "source": [
    "x = torch.tensor(\n",
    "    [\n",
    "        [[0.02, 0.10, 0.88],[0.96, 0.01, 0.03], [0.4, 0.4, 0.2]],\n",
    "        [[0.02, 0.10, 0.88],[0.96, 0.01, 0.03], [0.4, 0.4, 0.2]]\n",
    "    ], \n",
    "    requires_grad = True)"
   ]
  },
  {
   "cell_type": "code",
   "execution_count": null,
   "metadata": {},
   "outputs": [],
   "source": [
    "msh(x)"
   ]
  },
  {
   "cell_type": "code",
   "execution_count": null,
   "metadata": {},
   "outputs": [],
   "source": [
    "x = torch.tensor([[0.02, 0.10, 0.01, 0.01, 0.86],\n",
    "                  [0.97, 0.01, 0.01, 0.005, 0.005], \n",
    "                  [0.2, 0.2, 0.2, 0.2, 0.2]], requires_grad = True)"
   ]
  },
  {
   "cell_type": "code",
   "execution_count": null,
   "metadata": {},
   "outputs": [],
   "source": [
    "msh(x)"
   ]
  },
  {
   "cell_type": "code",
   "execution_count": null,
   "metadata": {},
   "outputs": [],
   "source": []
  }
 ],
 "metadata": {
  "kernelspec": {
   "display_name": "Python 3",
   "language": "python",
   "name": "python3"
  },
  "language_info": {
   "codemirror_mode": {
    "name": "ipython",
    "version": 3
   },
   "file_extension": ".py",
   "mimetype": "text/x-python",
   "name": "python",
   "nbconvert_exporter": "python",
   "pygments_lexer": "ipython3",
   "version": "3.9.7"
  }
 },
 "nbformat": 4,
 "nbformat_minor": 4
}
