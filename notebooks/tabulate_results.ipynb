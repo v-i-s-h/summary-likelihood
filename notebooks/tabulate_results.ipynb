{
 "cells": [
  {
   "cell_type": "markdown",
   "metadata": {},
   "source": [
    "# Extract eval results - MNIST - Clean test set"
   ]
  },
  {
   "cell_type": "markdown",
   "metadata": {},
   "source": [
    "Analyze evaluation results for BMNIST\n",
    "- Clean data"
   ]
  },
  {
   "cell_type": "code",
   "execution_count": null,
   "metadata": {},
   "outputs": [],
   "source": [
    "import sys\n",
    "sys.path.append(\"./../\")"
   ]
  },
  {
   "cell_type": "code",
   "execution_count": null,
   "metadata": {},
   "outputs": [],
   "source": [
    "import os\n",
    "import json\n",
    "import glob\n",
    "import pickle\n",
    "\n",
    "import numpy as np\n",
    "import pandas as pd"
   ]
  },
  {
   "cell_type": "code",
   "execution_count": null,
   "metadata": {},
   "outputs": [],
   "source": [
    "# Accuracy threshold for models to be included in analysis\n",
    "ACC_THRESHOLD = 0.80"
   ]
  },
  {
   "cell_type": "code",
   "execution_count": null,
   "metadata": {},
   "outputs": [],
   "source": [
    "def extract_results(model_dir):\n",
    "    \"\"\"\n",
    "        Get OOD metrics from model dir\n",
    "    \"\"\"\n",
    "\n",
    "    # Get config\n",
    "    config_json = os.path.join(model_dir, 'config.json')\n",
    "    config = json.load(open(config_json, 'r'))\n",
    "    \n",
    "    # Extract config values\n",
    "    method = config['method']\n",
    "    \n",
    "    # Create a table entry for parameters  as string\n",
    "    param_str = method # start with method label\n",
    "    for _p, _p_value in config['method_params'].items():\n",
    "        _p_value_str = None\n",
    "        if isinstance(_p_value, int):\n",
    "            _p_value_str = '{:04d}'.format(_p_value)\n",
    "        elif isinstance(_p_value, float):\n",
    "            _p_value_str = '{:08.3f}'.format(_p_value)\n",
    "        else:\n",
    "            _p_value_str = '{}'.format(_p_value)\n",
    "        param_str += '-{}={}'.format(_p, _p_value_str)\n",
    "    param = param_str\n",
    "    \n",
    "    results = None\n",
    "    \n",
    "    # Get OOD result files\n",
    "    ood_result_files = glob.glob(model_dir + \"/ece_results_*.pkl\")\n",
    "    \n",
    "    # Get results\n",
    "    for rfile in ood_result_files:\n",
    "        filename = os.path.basename(rfile)\n",
    "        # Get corruption name from file name\n",
    "        corr_name = ' '.join(filename.split('_')[2:])[:-4]\n",
    "        with open(rfile, 'rb') as f:\n",
    "            logs = pickle.load(f)[0]\n",
    "            r = {\n",
    "                'method': method,\n",
    "                'params': param,\n",
    "                'corruption': corr_name,\n",
    "                'ece': logs['ece_uncal'],\n",
    "                'acc': logs['acc'],\n",
    "                'nll': logs['nll_uncal_test'],\n",
    "                'auroc': logs['auroc']\n",
    "            }\n",
    "            \n",
    "            if results is not None:\n",
    "                results.append(r)\n",
    "            else:\n",
    "                results = [r]\n",
    "    \n",
    "    return results"
   ]
  },
  {
   "cell_type": "markdown",
   "metadata": {},
   "source": [
    "#### Load results"
   ]
  },
  {
   "cell_type": "code",
   "execution_count": null,
   "metadata": {},
   "outputs": [],
   "source": [
    "# # LeNet + 1000\n",
    "# models_root = \"./../zoo/sl/half-prior-alphavar/BinaryMNISTC-1000-53-identity/LeNet\"\n",
    "# # models_root = \"./../zoo/sl/uniform-prior-alphavar/BinaryMNISTC-1000-53-identity/LeNet\"\n",
    "# # models_root = \"./../zoo/sl/auto-prior-alphavar/BinaryMNISTC-1000-53-identity/LeNet\"\n",
    "# elbo_models_root = \"./../zoo/mfvi/BinaryMNISTC-1000-53-identity/LeNet\"\n",
    "# ls_models_root = \"./../zoo/ls/BinaryMNISTC-1000-53-identity/LeNet\"\n",
    "# edl_models_root = \"./../zoo/edl/BinaryMNISTC-1000-53-identity/LeNetEDL\"\n",
    "\n",
    "# LeNet + D1000\n",
    "# result_dirs = [\n",
    "#     \"./../zoo/sl/half-prior-alphavar/BinaryMNISTC-1000-53-identity/LeNet\", # SL\n",
    "#     # \"./../zoo/sl/uniform-prior-alphavar/BinaryMNISTC-1000-53-identity/LeNet\", #SL\n",
    "#     # \"./../zoo/sl/auto-prior-alphavar/BinaryMNISTC-1000-53-identity/LeNet\", #SL\n",
    "#     \"./../zoo/mfvi/BinaryMNISTC-1000-53-identity/LeNet\", #MFVI\n",
    "#     \"./../zoo/ls/BinaryMNISTC-1000-53-identity/LeNet\", #LS\n",
    "#     # \"./../zoo/edl/computed-prior/BinaryMNISTC-1000-53-identity/LeNetEDL\", #EDL\n",
    "#     # \"./../zoo/edl/skewed-prior/BinaryMNISTC-1000-53-identity/LeNetEDL\", #EDL\n",
    "#     # \"./../zoo/edl/uniform-prior/BinaryMNISTC-1000-53-identity/LeNetEDL\", #EDL\n",
    "# ]\n",
    "\n",
    "# LeNet + D8000\n",
    "result_dirs = [\n",
    "    \"./../zoo/sl/half-prior-alphavar/BinaryMNISTC-8000-53-identity/LeNet\", # SL\n",
    "    \"./../zoo/sl/uniform-prior-alphavar/BinaryMNISTC-8000-53-identity/LeNet\", #SL\n",
    "    \"./../zoo/sl/auto-prior-alphavar/BinaryMNISTC-8000-53-identity/LeNet\", #SL\n",
    "    \"./../zoo/mfvi/BinaryMNISTC-8000-53-identity/LeNet\", #MFVI\n",
    "    \"./../zoo/ls/BinaryMNISTC-8000-53-identity/LeNet\", #LS\n",
    "    \"./../zoo/edl/computed-prior/BinaryMNISTC-8000-53-identity/LeNetEDL\", #EDL\n",
    "    \"./../zoo/edl/skewed-prior/BinaryMNISTC-8000-53-identity/LeNetEDL\", #EDL\n",
    "    \"./../zoo/edl/uniform-prior/BinaryMNISTC-8000-53-identity/LeNetEDL\", #EDL\n",
    "]\n",
    "\n",
    "\n",
    "# ConvNet + 1000\n",
    "# models_root = \"./../zoo/sl/half-prior-alphavar/BinaryMNISTC-1000-53-identity/ConvNet\"\n",
    "# models_root = \"./../zoo/sl/auto-prior-alphavar/BinaryMNISTC-1000-53-identity/ConvNet\"\n",
    "# models_root = \"./../zoo/sl/uniform-prior-alphavar/BinaryMNISTC-1000-53-identity/ConvNet\"\n",
    "# elbo_models_root = \"./../zoo/mfvi/BinaryMNISTC-1000-53-identity/ConvNet\"\n",
    "# ls_models_root = \"./../zoo/ls/BinaryMNISTC-1000-53-identity/ConvNet\"\n",
    "# edl_models_root = \"./../zoo/edl/BinaryMNISTC-1000-53-identity/ConvNetEDL\"\n",
    "\n",
    "# ConvNet + 10000\n",
    "# models_root = \"./../zoo/sl/half-prior-alphavar/BinaryMNISTC-8000-53-identity/ConvNet\"\n",
    "# models_root = \"./../zoo/sl/auto-prior-alphavar/BinaryMNISTC-8000-53-identity/ConvNet\"\n",
    "# models_root = \"./../zoo/sl/uniform-prior-alphavar/BinaryMNISTC-8000-53-identity/ConvNet\"\n",
    "# elbo_models_root = \"./../zoo/mfvi/BinaryMNISTC-8000-53-identity/ConvNet\"\n",
    "# ls_models_root = \"./../zoo/ls/BinaryMNISTC-8000-53-identity/ConvNet\"\n",
    "# edl_models_root = \"./../zoo/edl/BinaryMNISTC-8000-53-identity/ConvNetEDL\""
   ]
  },
  {
   "cell_type": "code",
   "execution_count": null,
   "metadata": {},
   "outputs": [],
   "source": [
    "# Enumerate model directories and load evaluation results\n",
    "results = []\n",
    "for models_root in result_dirs:\n",
    "    model_dirs = list(map(lambda d: os.path.join(models_root, d), os.listdir(models_root)))\n",
    "    for _m in model_dirs:\n",
    "        results.extend(extract_results(_m))\n",
    "df_results = pd.DataFrame(results)"
   ]
  },
  {
   "cell_type": "code",
   "execution_count": null,
   "metadata": {},
   "outputs": [],
   "source": [
    "# Do basic QA, ignore all models which fail to train satisfactorily\n",
    "df_results = df_results[df_results.acc > ACC_THRESHOLD]"
   ]
  },
  {
   "cell_type": "code",
   "execution_count": null,
   "metadata": {},
   "outputs": [],
   "source": [
    "df_results"
   ]
  },
  {
   "cell_type": "markdown",
   "metadata": {},
   "source": [
    "#### Get results for clean dataset"
   ]
  },
  {
   "cell_type": "code",
   "execution_count": null,
   "metadata": {},
   "outputs": [],
   "source": [
    "df_clean = df_results[df_results.corruption == 'identity'].drop(['corruption'], axis=1).reset_index()"
   ]
  },
  {
   "cell_type": "code",
   "execution_count": null,
   "metadata": {},
   "outputs": [],
   "source": [
    "metrics_summ = df_clean.groupby('params').agg(\n",
    "    n = pd.NamedAgg(column='acc', aggfunc='count'),\n",
    "    acc_mean = pd.NamedAgg(column='acc', aggfunc='mean'),\n",
    "    acc_err = pd.NamedAgg(column='acc', aggfunc=lambda x: np.std(x) / np.sqrt(x.shape[0])),\n",
    "    ece_mean = pd.NamedAgg(column='ece', aggfunc='mean'),\n",
    "    ece_err = pd.NamedAgg(column='ece', aggfunc=lambda x: np.std(x) / np.sqrt(x.shape[0])),\n",
    "    nll_mean = pd.NamedAgg(column='nll', aggfunc='mean'),\n",
    "    nll_err = pd.NamedAgg(column='nll', aggfunc=lambda x: np.std(x) / np.sqrt(x.shape[0])),\n",
    "    auroc_mean = pd.NamedAgg(column='auroc', aggfunc='mean'),\n",
    "    auroc_err = pd.NamedAgg(column='auroc', aggfunc=lambda x: np.std(x) / np.sqrt(x.shape[0])),\n",
    ")"
   ]
  },
  {
   "cell_type": "code",
   "execution_count": null,
   "metadata": {},
   "outputs": [],
   "source": [
    "metrics_summ"
   ]
  },
  {
   "cell_type": "code",
   "execution_count": null,
   "metadata": {},
   "outputs": [],
   "source": [
    "# For Table 1\n",
    "for row in metrics_summ.itertuples():\n",
    "    print(\n",
    "        \"{:50s}\".format(row.Index),\n",
    "        \"& ${:.3f} \\pm {:.3f}$\".format(row.nll_mean, row.nll_err),\n",
    "        \"& ${:.3f} \\pm {:.3f}$\".format(row.acc_mean, row.acc_err),\n",
    "        \"& ${:.3f} \\pm {:.3f}$\".format(row.auroc_mean, row.auroc_err),\n",
    "        \"& ${:.3f} \\pm {:.3f}$\".format(row.ece_mean, row.ece_err)\n",
    "    )"
   ]
  },
  {
   "cell_type": "code",
   "execution_count": null,
   "metadata": {},
   "outputs": [],
   "source": []
  }
 ],
 "metadata": {
  "kernelspec": {
   "display_name": "Python (Bayes)",
   "language": "python",
   "name": "bayes"
  },
  "language_info": {
   "codemirror_mode": {
    "name": "ipython",
    "version": 3
   },
   "file_extension": ".py",
   "mimetype": "text/x-python",
   "name": "python",
   "nbconvert_exporter": "python",
   "pygments_lexer": "ipython3",
   "version": "3.9.7"
  }
 },
 "nbformat": 4,
 "nbformat_minor": 4
}
