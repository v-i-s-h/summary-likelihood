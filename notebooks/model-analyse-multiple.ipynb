{
 "cells": [
  {
   "cell_type": "markdown",
   "metadata": {},
   "source": [
    "# Analyze models predictions"
   ]
  },
  {
   "cell_type": "code",
   "execution_count": null,
   "metadata": {},
   "outputs": [],
   "source": [
    "import sys\n",
    "sys.path.append(\"./../\")"
   ]
  },
  {
   "cell_type": "code",
   "execution_count": null,
   "metadata": {},
   "outputs": [],
   "source": [
    "import os\n",
    "import json\n",
    "\n",
    "import numpy as np\n",
    "import torch\n",
    "from torch.utils.data import DataLoader\n",
    "\n",
    "import methods\n",
    "import models\n",
    "import datasets\n",
    "import transforms\n",
    "\n",
    "import matplotlib.pyplot as plt\n",
    "plt.style.use('seaborn')"
   ]
  },
  {
   "cell_type": "code",
   "execution_count": null,
   "metadata": {},
   "outputs": [],
   "source": [
    "def get_marginal_predictions(model, dataset, N=10):\n",
    "    dataloader = DataLoader(dataset, batch_size=1024, shuffle=False)\n",
    "\n",
    "    # Get predictions from model\n",
    "    ypreds = []\n",
    "    with torch.no_grad():\n",
    "        for x, y in dataloader:\n",
    "            _ypreds, _ = model.sample_predictions(x, n=N)\n",
    "            if ypreds:\n",
    "                for i in range(N):\n",
    "                    ypreds[i] = torch.cat((ypreds[i], _ypreds[i]), dim=0)\n",
    "            else:\n",
    "                for y2 in _ypreds:\n",
    "                    # y2 is a tensor of shape (B, K)\n",
    "                    ypreds.append(y2)\n",
    "\n",
    "    # Convert to softmax score from log_softmax\n",
    "    yprobs = [torch.exp(_ypreds) for _ypreds in ypreds]\n",
    "    # Compute mean and std\n",
    "    yprob_marginal = torch.stack([_yprob.sum(dim=0) for _yprob in yprobs])\n",
    "    y_std, y_mean = torch.std_mean(yprob_marginal, dim=0)\n",
    "\n",
    "    y_mean = y_mean.numpy()\n",
    "    y_std = y_std.numpy() / np.sqrt(N)\n",
    "\n",
    "    return y_mean, y_std"
   ]
  },
  {
   "cell_type": "code",
   "execution_count": null,
   "metadata": {},
   "outputs": [],
   "source": [
    "models_dict = {\n",
    "    \"MFVI\": \"./../zoo/samples/BinaryMNISTC-53-identity/LeNet/mfvi-20220328203213\",\n",
    "    \"MFVI ($\\\\lambda = 1.0$)\": \"./../zoo/samples/BinaryMNISTC-53-identity/LeNet/mfvi-lam1.0-auto-20220328211605\",\n",
    "    \"Summary Likelihood\": \"./../zoo/samples/BinaryMNISTC-53-identity/LeNet/sl-20220328204536\",\n",
    "    \"Summary Likelihood ($\\\\lambda = 1.0$)\": \"./../zoo/samples/BinaryMNISTC-53-identity/LeNet/sl-lam1.0-auto-20220328205742\"\n",
    "}"
   ]
  },
  {
   "cell_type": "code",
   "execution_count": null,
   "metadata": {},
   "outputs": [],
   "source": [
    "results = {}\n",
    "for model_name, model_dir in models_dict.items():\n",
    "    # Default paths\n",
    "    config_json = os.path.join(model_dir, \"config.json\")\n",
    "    ckpt_file = os.path.join(model_dir, \"last.ckpt\")\n",
    "\n",
    "    config = json.load(open(config_json, 'r'))\n",
    "\n",
    "    MethodClass = getattr(methods, config['method'])\n",
    "    DatasetClass = getattr(datasets, config['dataset'])\n",
    "    ModelClass = getattr(models, config['model'])\n",
    "    TransformClass = getattr(transforms, config['transform'])\n",
    "\n",
    "    testset = DatasetClass(**config['ds_params'], split='test', transform=TransformClass())\n",
    "    K = testset.n_labels\n",
    "\n",
    "    model = MethodClass.load_from_checkpoint(\n",
    "            os.path.join(model_dir, \"last.ckpt\"),\n",
    "            model=ModelClass(K))\n",
    "\n",
    "    y_mean, y_std = get_marginal_predictions(model, testset, N=50)\n",
    "\n",
    "    results[model_name] = (y_mean, y_std)"
   ]
  },
  {
   "cell_type": "code",
   "execution_count": null,
   "metadata": {},
   "outputs": [],
   "source": [
    "pen_colors = plt.cm.get_cmap('tab10')"
   ]
  },
  {
   "cell_type": "code",
   "execution_count": null,
   "metadata": {},
   "outputs": [],
   "source": [
    "plt.figure()\n",
    "x_vals = np.arange(2)\n",
    "n = len(results) + 1\n",
    "w = 2 / (3 * n)\n",
    "\n",
    "plt.figure()\n",
    "\n",
    "# plt.bar(\n",
    "#     x = x_vals,\n",
    "#     height = testset.n_classes,\n",
    "#     width = w * 0.85,\n",
    "#     label = \"True labels\",\n",
    "#     color = pen_colors(0)\n",
    "# )\n",
    "\n",
    "for i, (label, result) in enumerate(results.items()):\n",
    "    y_mean, y_std = result\n",
    "    plt.bar(\n",
    "        x = x_vals + i * w,\n",
    "        height = y_mean,\n",
    "        yerr = y_std,\n",
    "        width = w * 0.85,\n",
    "        label = label,\n",
    "        color = pen_colors(i+1)\n",
    "    )\n",
    "\n",
    "plt.hlines(testset.n_classes[0], \n",
    "            x_vals[0] - w, x_vals[0] + n * w,\n",
    "            colors='k', linestyles=':')\n",
    "plt.hlines(testset.n_classes[1], \n",
    "            x_vals[1] - w, x_vals[1] + n * w,\n",
    "            colors='k', linestyles=':')\n",
    "\n",
    "plt.legend()\n",
    "plt.xticks(ticks=x_vals+n/2*w-1*w, labels=x_vals)\n",
    "plt.ylim(750, 1100)\n",
    "plt.title(\"Predictive marginal distribution\")\n",
    "plt.xlabel(\"Labels\")\n",
    "plt.ylabel(\"Predictive probability\")"
   ]
  },
  {
   "cell_type": "code",
   "execution_count": null,
   "metadata": {},
   "outputs": [],
   "source": [
    "results_corruptions = {}\n",
    "for model_name, model_dir in models_dict.items():\n",
    "    # Default paths\n",
    "    config_json = os.path.join(model_dir, \"config.json\")\n",
    "    ckpt_file = os.path.join(model_dir, \"last.ckpt\")\n",
    "\n",
    "    config = json.load(open(config_json, 'r'))\n",
    "\n",
    "    MethodClass = getattr(methods, config['method'])\n",
    "    ModelClass = getattr(models, config['model'])\n",
    "    TransformClass = getattr(transforms, config['transform'])\n",
    "\n",
    "    model = MethodClass.load_from_checkpoint(\n",
    "            os.path.join(model_dir, \"last.ckpt\"),\n",
    "            model=ModelClass(K))\n",
    "\n",
    "    for corruption in testset.corruptions:\n",
    "        testset = DatasetClass(\n",
    "                    config['ds_params']['labels'], \n",
    "                    split='test', \n",
    "                    corruption=corruption,\n",
    "                    transform=TransformClass())\n",
    "        K = testset.n_labels\n",
    "\n",
    "        y_mean, y_std = get_marginal_predictions(model, testset, N=50)\n",
    "\n",
    "        if model_name not in results_corruptions:\n",
    "            results_corruptions[model_name] = {}\n",
    "        results_corruptions[model_name][corruption] = (y_mean, y_std)"
   ]
  },
  {
   "cell_type": "code",
   "execution_count": null,
   "metadata": {},
   "outputs": [],
   "source": [
    "plt.figure(figsize=(30, 6))\n",
    "x_vals = np.arange(len(testset.corruptions))\n",
    "n = len(models_dict)\n",
    "w = 2 / (3 * n)\n",
    "\n",
    "\n",
    "for j, (label, r) in enumerate(results_corruptions.items()):\n",
    "    _x = x_vals + (j) * w\n",
    "    _y = [r[c][0][1] for c in testset.corruptions]\n",
    "    _y_err = [r[c][1][1] for c in testset.corruptions]\n",
    "\n",
    "    plt.bar(\n",
    "        _x, \n",
    "        height = _y,\n",
    "        yerr = _y_err,\n",
    "        width = w * 0.85,\n",
    "        label = label,\n",
    "        color = pen_colors(j+1)\n",
    "        )\n",
    "\n",
    "plt.hlines(testset.n1, x_vals[0]-w, x_vals[-1]+n*0.2, colors='k', linestyles=':')\n",
    "\n",
    "plt.legend()\n",
    "plt.xticks(ticks=x_vals+n/2*w-0.5*w, labels=testset.corruptions)\n",
    "plt.ylim(800, 1200)\n",
    "plt.title(\"Predictive marginal distribution for label 1 with different corruptions\")\n",
    "plt.xlabel(\"Corruptions\")\n",
    "plt.ylabel(\"Predictive probability\")"
   ]
  },
  {
   "cell_type": "code",
   "execution_count": null,
   "metadata": {},
   "outputs": [],
   "source": []
  }
 ],
 "metadata": {
  "interpreter": {
   "hash": "2cc81e65ac001079a8dbd6b9a2e1804ae2bdf52e129f39c92608ef96e247326a"
  },
  "kernelspec": {
   "display_name": "Python 3.9.7 ('bdl')",
   "language": "python",
   "name": "python3"
  },
  "language_info": {
   "codemirror_mode": {
    "name": "ipython",
    "version": 3
   },
   "file_extension": ".py",
   "mimetype": "text/x-python",
   "name": "python",
   "nbconvert_exporter": "python",
   "pygments_lexer": "ipython3",
   "version": "3.9.7"
  },
  "orig_nbformat": 4
 },
 "nbformat": 4,
 "nbformat_minor": 2
}
