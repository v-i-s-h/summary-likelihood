{
 "cells": [
  {
   "cell_type": "code",
   "execution_count": 1,
   "metadata": {},
   "outputs": [],
   "source": [
    "import sys\n",
    "sys.path.append(\"./../\")"
   ]
  },
  {
   "cell_type": "code",
   "execution_count": 2,
   "metadata": {},
   "outputs": [
    {
     "name": "stderr",
     "output_type": "stream",
     "text": [
      "2022-04-30 16:03:53.686449: W tensorflow/stream_executor/platform/default/dso_loader.cc:64] Could not load dynamic library 'libcudart.so.11.0'; dlerror: libcudart.so.11.0: cannot open shared object file: No such file or directory\n",
      "2022-04-30 16:03:53.686505: I tensorflow/stream_executor/cuda/cudart_stub.cc:29] Ignore above cudart dlerror if you do not have a GPU set up on your machine.\n"
     ]
    }
   ],
   "source": [
    "import os\n",
    "import json\n",
    "import glob\n",
    "\n",
    "import numpy as np\n",
    "import pandas as pd\n",
    "\n",
    "from tbparse import SummaryReader\n",
    "import matplotlib.pyplot as plt\n",
    "plt.style.use('seaborn')"
   ]
  },
  {
   "cell_type": "code",
   "execution_count": 3,
   "metadata": {},
   "outputs": [],
   "source": [
    "def extract_results(model_dir):\n",
    "    \"\"\"\n",
    "        Get metrics from a give model folder\n",
    "    \"\"\"\n",
    "    \n",
    "    # Get config\n",
    "    config_json = os.path.join(model_dir, 'config.json')\n",
    "    config = json.load(open(config_json, 'r'))\n",
    "    \n",
    "    # Get test events file\n",
    "    tblog_dir = os.path.join(model_dir, \"tblog\")\n",
    "    events_file = glob.glob(tblog_dir + \"/events.out.tfevents*.1\") # *.1 will be from test\n",
    "    if len(events_file) > 0:\n",
    "        events_file = events_file[0]\n",
    "    else:\n",
    "        print(\"Skipping\", model_dir)\n",
    "        return None\n",
    "    tb_log = SummaryReader(events_file, pivot=True).scalars\n",
    "    \n",
    "    # Extract key points\n",
    "    lam_sl = config['method_params']['lam_sl']\n",
    "    ds_size = config['ds_params']['size']\n",
    "    ds_corr = config['ds_params']['corruption']\n",
    "    acc = tb_log.test_acc.values[0]\n",
    "    ece = tb_log.test_ece.values[0]\n",
    "    f1 = tb_log.test_f1.values[0]\n",
    "    loss = tb_log.test_loss.values[0]\n",
    "    \n",
    "    return {\n",
    "        'lam_sl': lam_sl,\n",
    "        'ds_size': ds_size,\n",
    "        'ds_corr': ds_corr,\n",
    "        'acc': acc,\n",
    "        'ece': ece,\n",
    "        'f1': f1,\n",
    "        'loss': loss\n",
    "    }"
   ]
  },
  {
   "cell_type": "code",
   "execution_count": 8,
   "metadata": {},
   "outputs": [],
   "source": [
    "def extract_best_results(model_dir):\n",
    "    # Get config\n",
    "    config_json = os.path.join(model_dir, 'config.json')\n",
    "    config = json.load(open(config_json, 'r'))\n",
    "    \n",
    "    # Get test events file\n",
    "    tblog_dir = os.path.join(model_dir, \"tblog\")\n",
    "    events_file = glob.glob(tblog_dir + \"/events.out.tfevents*.0\") # *.1 will be from test\n",
    "    if len(events_file) > 0:\n",
    "        events_file = events_file[0]\n",
    "    else:\n",
    "        print(\"Skipping\", model_dir)\n",
    "        return None\n",
    "    tb_log = SummaryReader(events_file, pivot=True).scalars\n",
    "    \n",
    "    # Get the best point in term of val_f1 (dont look at ECE)\n",
    "    try:\n",
    "        tb_log = tb_log[tb_log.val_f1 == tb_log.val_f1.max()]\n",
    "    except:\n",
    "        print(model_dir)\n",
    "        return None\n",
    "    \n",
    "    # Extract key points\n",
    "    lam_sl = config['method_params'].get('lam_sl', 0.0)\n",
    "    ds_size = config['ds_params'].get('size', 'Full')\n",
    "    ds_corr = config['ds_params'].get('corruption', 'identity')\n",
    "    acc = tb_log.val_acc.values[0]\n",
    "    ece = tb_log.val_ece.values[0]\n",
    "    f1 = tb_log.val_f1.values[0]\n",
    "    loss = tb_log.val_loss.values[0]\n",
    "    \n",
    "    return {\n",
    "        'lam_sl': lam_sl,\n",
    "        'ds_size': ds_size,\n",
    "        'ds_corr': ds_corr,\n",
    "        'acc': acc,\n",
    "        'ece': ece,\n",
    "        'f1': f1,\n",
    "        'loss': loss\n",
    "    }"
   ]
  },
  {
   "cell_type": "code",
   "execution_count": 9,
   "metadata": {},
   "outputs": [],
   "source": [
    "# model_str = \"LeNet\"\n",
    "model_str = \"VGG11\""
   ]
  },
  {
   "cell_type": "code",
   "execution_count": 10,
   "metadata": {},
   "outputs": [],
   "source": [
    "# rootdir = \"./../zoo/abl-alpha100-uniform/\"\n",
    "rootdir = \"./../zoo/abl-alpha100-unibin-mfvi/\"\n",
    "modeldirs = []\n",
    "for expdir in map(lambda x: os.path.join(rootdir, x), os.listdir(rootdir)):\n",
    "    _modeldirs = os.listdir(os.path.join(expdir, model_str))\n",
    "    modeldirs.extend(map(lambda x: os.path.join(expdir, model_str, x), _modeldirs))"
   ]
  },
  {
   "cell_type": "code",
   "execution_count": 11,
   "metadata": {},
   "outputs": [],
   "source": [
    "# df_results = pd.DataFrame(filter(None, [extract_results(mdir) for mdir in modeldirs]))\n",
    "df_results = pd.DataFrame(filter(None, [extract_best_results(mdir) for mdir in modeldirs]))"
   ]
  },
  {
   "cell_type": "code",
   "execution_count": 12,
   "metadata": {},
   "outputs": [
    {
     "data": {
      "text/html": [
       "<div>\n",
       "<style scoped>\n",
       "    .dataframe tbody tr th:only-of-type {\n",
       "        vertical-align: middle;\n",
       "    }\n",
       "\n",
       "    .dataframe tbody tr th {\n",
       "        vertical-align: top;\n",
       "    }\n",
       "\n",
       "    .dataframe thead th {\n",
       "        text-align: right;\n",
       "    }\n",
       "</style>\n",
       "<table border=\"1\" class=\"dataframe\">\n",
       "  <thead>\n",
       "    <tr style=\"text-align: right;\">\n",
       "      <th></th>\n",
       "      <th>lam_sl</th>\n",
       "      <th>ds_size</th>\n",
       "      <th>ds_corr</th>\n",
       "      <th>acc</th>\n",
       "      <th>ece</th>\n",
       "      <th>f1</th>\n",
       "      <th>loss</th>\n",
       "    </tr>\n",
       "  </thead>\n",
       "  <tbody>\n",
       "    <tr>\n",
       "      <th>0</th>\n",
       "      <td>0.0</td>\n",
       "      <td>Full</td>\n",
       "      <td>identity</td>\n",
       "      <td>0.8123</td>\n",
       "      <td>0.037324</td>\n",
       "      <td>0.8123</td>\n",
       "      <td>0.731209</td>\n",
       "    </tr>\n",
       "    <tr>\n",
       "      <th>1</th>\n",
       "      <td>0.0</td>\n",
       "      <td>Full</td>\n",
       "      <td>identity</td>\n",
       "      <td>0.8127</td>\n",
       "      <td>0.052904</td>\n",
       "      <td>0.8127</td>\n",
       "      <td>0.866989</td>\n",
       "    </tr>\n",
       "    <tr>\n",
       "      <th>2</th>\n",
       "      <td>0.0</td>\n",
       "      <td>Full</td>\n",
       "      <td>identity</td>\n",
       "      <td>0.8070</td>\n",
       "      <td>0.037957</td>\n",
       "      <td>0.8070</td>\n",
       "      <td>0.792517</td>\n",
       "    </tr>\n",
       "    <tr>\n",
       "      <th>3</th>\n",
       "      <td>0.0</td>\n",
       "      <td>Full</td>\n",
       "      <td>identity</td>\n",
       "      <td>0.8038</td>\n",
       "      <td>0.041678</td>\n",
       "      <td>0.8038</td>\n",
       "      <td>0.834357</td>\n",
       "    </tr>\n",
       "    <tr>\n",
       "      <th>4</th>\n",
       "      <td>0.0</td>\n",
       "      <td>Full</td>\n",
       "      <td>identity</td>\n",
       "      <td>0.8054</td>\n",
       "      <td>0.063463</td>\n",
       "      <td>0.8054</td>\n",
       "      <td>0.911471</td>\n",
       "    </tr>\n",
       "  </tbody>\n",
       "</table>\n",
       "</div>"
      ],
      "text/plain": [
       "   lam_sl ds_size   ds_corr     acc       ece      f1      loss\n",
       "0     0.0    Full  identity  0.8123  0.037324  0.8123  0.731209\n",
       "1     0.0    Full  identity  0.8127  0.052904  0.8127  0.866989\n",
       "2     0.0    Full  identity  0.8070  0.037957  0.8070  0.792517\n",
       "3     0.0    Full  identity  0.8038  0.041678  0.8038  0.834357\n",
       "4     0.0    Full  identity  0.8054  0.063463  0.8054  0.911471"
      ]
     },
     "execution_count": 12,
     "metadata": {},
     "output_type": "execute_result"
    }
   ],
   "source": [
    "df_results"
   ]
  },
  {
   "cell_type": "code",
   "execution_count": 13,
   "metadata": {},
   "outputs": [],
   "source": [
    "agg_results = {}\n",
    "\n",
    "gdf_corr = df_results.groupby('ds_corr')\n",
    "for corr_str, gdf1 in gdf_corr:\n",
    "    agg_results[corr_str] = {}\n",
    "    gdf_ds = gdf1.groupby('ds_size')\n",
    "    \n",
    "    for ds_size, gdf2 in gdf_ds:\n",
    "        gdf_lam = gdf2.groupby('lam_sl')\n",
    "        \n",
    "        r = []\n",
    "        for lam_sl, _df in gdf_lam:\n",
    "            n = np.sqrt(_df.shape[0])\n",
    "\n",
    "            d = {\n",
    "                'lam_sl': lam_sl,\n",
    "                'acc_mean': _df.acc.mean(),\n",
    "                'acc_err': _df.acc.std() / n,\n",
    "                'ece_mean': _df.ece.mean(),\n",
    "                'ece_err': _df.ece.std() / n,\n",
    "                'f1_mean': _df.f1.mean(),\n",
    "                'f1_err': _df.f1.std() / n,\n",
    "                'loss_mean': _df.loss.mean(),\n",
    "                'loss_err': _df.loss.std() / n,\n",
    "            }\n",
    "            \n",
    "            r.append(d)\n",
    "        agg_results[corr_str][ds_size] = pd.DataFrame(r)"
   ]
  },
  {
   "cell_type": "code",
   "execution_count": 13,
   "metadata": {},
   "outputs": [],
   "source": [
    "# agg_results = []\n",
    "\n",
    "# gdf = df_results.groupby('lam_sl')\n",
    "# for lam_sl, _df in gdf:\n",
    "#     n = np.sqrt(_df.shape[0])\n",
    "    \n",
    "#     d = {\n",
    "#         'lam_sl': lam_sl,\n",
    "#         'acc_mean': _df.acc.mean(),\n",
    "#         'acc_err': _df.acc.std() / n,\n",
    "#         'ece_mean': _df.ece.mean(),\n",
    "#         'ece_err': _df.ece.std() / n,\n",
    "#         'f1_mean': _df.f1.mean(),\n",
    "#         'f1_err': _df.f1.std() / n,\n",
    "#         'loss_mean': _df.loss.mean(),\n",
    "#         'loss_err': _df.loss.std() / n,\n",
    "#     }\n",
    "    \n",
    "#     agg_results.append(d)\n",
    "\n",
    "# df_agg = pd.DataFrame(agg_results)"
   ]
  },
  {
   "cell_type": "code",
   "execution_count": 16,
   "metadata": {},
   "outputs": [
    {
     "data": {
      "text/plain": [
       "{'lam_sl': {0: 0.0},\n",
       " 'acc_mean': {0: 0.8082399964332581},\n",
       " 'acc_err': {0: 0.0018123474110814655},\n",
       " 'ece_mean': {0: 0.04666510298848152},\n",
       " 'ece_err': {0: 0.005045091822872807},\n",
       " 'f1_mean': {0: 0.808240008354187},\n",
       " 'f1_err': {0: 0.0018123547451123277},\n",
       " 'loss_mean': {0: 0.8273083090782165},\n",
       " 'loss_err': {0: 0.030945931769120333}}"
      ]
     },
     "execution_count": 16,
     "metadata": {},
     "output_type": "execute_result"
    }
   ],
   "source": [
    "agg_results['identity']['Full'].to_dict()"
   ]
  },
  {
   "cell_type": "code",
   "execution_count": null,
   "metadata": {},
   "outputs": [],
   "source": []
  }
 ],
 "metadata": {
  "kernelspec": {
   "display_name": "Python (Bayes)",
   "language": "python",
   "name": "bayes"
  },
  "language_info": {
   "codemirror_mode": {
    "name": "ipython",
    "version": 3
   },
   "file_extension": ".py",
   "mimetype": "text/x-python",
   "name": "python",
   "nbconvert_exporter": "python",
   "pygments_lexer": "ipython3",
   "version": "3.9.7"
  }
 },
 "nbformat": 4,
 "nbformat_minor": 4
}
