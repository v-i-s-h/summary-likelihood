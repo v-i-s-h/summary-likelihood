{
 "cells": [
  {
   "cell_type": "code",
   "execution_count": 7,
   "metadata": {},
   "outputs": [],
   "source": [
    "import sys\n",
    "sys.path.append(\"./../\")"
   ]
  },
  {
   "cell_type": "code",
   "execution_count": 8,
   "metadata": {},
   "outputs": [],
   "source": [
    "import os\n",
    "import json\n",
    "import glob\n",
    "\n",
    "import numpy as np\n",
    "import pandas as pd\n",
    "\n",
    "from tbparse import SummaryReader\n",
    "import matplotlib.pyplot as plt\n",
    "plt.style.use('seaborn')"
   ]
  },
  {
   "cell_type": "code",
   "execution_count": 9,
   "metadata": {},
   "outputs": [],
   "source": [
    "def extract_results(model_dir):\n",
    "    \"\"\"\n",
    "        Get metrics from a give model folder\n",
    "    \"\"\"\n",
    "    \n",
    "    # Get config\n",
    "    config_json = os.path.join(model_dir, 'config.json')\n",
    "    config = json.load(open(config_json, 'r'))\n",
    "    \n",
    "    # Get test events file\n",
    "    tblog_dir = os.path.join(model_dir, \"tblog\")\n",
    "    events_file = glob.glob(tblog_dir + \"/events.out.tfevents*.1\") # *.1 will be from test\n",
    "    if len(events_file) > 0:\n",
    "        events_file = events_file[0]\n",
    "    else:\n",
    "        print(\"Skipping\", model_dir)\n",
    "        return None\n",
    "    tb_log = SummaryReader(events_file, pivot=True).scalars\n",
    "    \n",
    "    # Extract key points\n",
    "    lam_sl = config['method_params']['lam_sl']\n",
    "    ds_size = config['ds_params']['size']\n",
    "    ds_corr = config['ds_params']['corruption']\n",
    "    acc = tb_log.test_acc.values[0]\n",
    "    ece = tb_log.test_ece.values[0]\n",
    "    f1 = tb_log.test_f1.values[0]\n",
    "    loss = tb_log.test_loss.values[0]\n",
    "    \n",
    "    return {\n",
    "        'lam_sl': lam_sl,\n",
    "        'ds_size': ds_size,\n",
    "        'ds_corr': ds_corr,\n",
    "        'acc': acc,\n",
    "        'ece': ece,\n",
    "        'f1': f1,\n",
    "        'loss': loss\n",
    "    }"
   ]
  },
  {
   "cell_type": "code",
   "execution_count": 10,
   "metadata": {},
   "outputs": [],
   "source": [
    "def extract_best_results(model_dir):\n",
    "    # Get config\n",
    "    config_json = os.path.join(model_dir, 'config.json')\n",
    "    config = json.load(open(config_json, 'r'))\n",
    "    \n",
    "    # Get test events file\n",
    "    tblog_dir = os.path.join(model_dir, \"tblog\")\n",
    "    events_file = glob.glob(tblog_dir + \"/events.out.tfevents*.0\") # *.1 will be from test\n",
    "    if len(events_file) > 0:\n",
    "        events_file = events_file[0]\n",
    "    else:\n",
    "        print(\"Skipping\", model_dir)\n",
    "        return None\n",
    "    tb_log = SummaryReader(events_file, pivot=True).scalars\n",
    "    \n",
    "    # Get the best point in term of val_f1 (dont look at ECE)\n",
    "    try:\n",
    "        tb_log = tb_log[tb_log.val_f1 == tb_log.val_f1.max()]\n",
    "    except:\n",
    "        print(model_dir)\n",
    "        return None\n",
    "    \n",
    "    # Extract key points\n",
    "    lam_sl = config['method_params'].get('lam_sl', 0.0)\n",
    "    ds_size = config['ds_params'].get('size', 'Full')\n",
    "    ds_corr = config['ds_params'].get('corruption', 'identity')\n",
    "    acc = tb_log.val_acc.values[0]\n",
    "    ece = tb_log.val_ece.values[0]\n",
    "    f1 = tb_log.val_f1.values[0]\n",
    "    loss = tb_log.val_loss.values[0]\n",
    "    \n",
    "    return {\n",
    "        'lam_sl': lam_sl,\n",
    "        'ds_size': ds_size,\n",
    "        'ds_corr': ds_corr,\n",
    "        'acc': acc,\n",
    "        'ece': ece,\n",
    "        'f1': f1,\n",
    "        'loss': loss\n",
    "    }"
   ]
  },
  {
   "cell_type": "code",
   "execution_count": 11,
   "metadata": {},
   "outputs": [],
   "source": [
    "# rootdir = \"./../zoo/bmnist53-mfvi/\"\n",
    "# model_str = \"ConvNet\"\n",
    "\n",
    "rootdir = \"./../zoo/abl-alpha100-cifar10im-mfvi/\"\n",
    "model_str = \"VGG11\""
   ]
  },
  {
   "cell_type": "code",
   "execution_count": 12,
   "metadata": {},
   "outputs": [],
   "source": [
    "\n",
    "modeldirs = []\n",
    "for expdir in map(lambda x: os.path.join(rootdir, x), os.listdir(rootdir)):\n",
    "    _modeldirs = os.listdir(os.path.join(expdir, model_str))\n",
    "    modeldirs.extend(map(lambda x: os.path.join(expdir, model_str, x), _modeldirs))"
   ]
  },
  {
   "cell_type": "code",
   "execution_count": 13,
   "metadata": {},
   "outputs": [],
   "source": [
    "# df_results = pd.DataFrame(filter(None, [extract_results(mdir) for mdir in modeldirs]))\n",
    "df_results = pd.DataFrame(filter(None, [extract_best_results(mdir) for mdir in modeldirs]))"
   ]
  },
  {
   "cell_type": "code",
   "execution_count": 14,
   "metadata": {},
   "outputs": [
    {
     "data": {
      "text/html": [
       "<div>\n",
       "<style scoped>\n",
       "    .dataframe tbody tr th:only-of-type {\n",
       "        vertical-align: middle;\n",
       "    }\n",
       "\n",
       "    .dataframe tbody tr th {\n",
       "        vertical-align: top;\n",
       "    }\n",
       "\n",
       "    .dataframe thead th {\n",
       "        text-align: right;\n",
       "    }\n",
       "</style>\n",
       "<table border=\"1\" class=\"dataframe\">\n",
       "  <thead>\n",
       "    <tr style=\"text-align: right;\">\n",
       "      <th></th>\n",
       "      <th>lam_sl</th>\n",
       "      <th>ds_size</th>\n",
       "      <th>ds_corr</th>\n",
       "      <th>acc</th>\n",
       "      <th>ece</th>\n",
       "      <th>f1</th>\n",
       "      <th>loss</th>\n",
       "    </tr>\n",
       "  </thead>\n",
       "  <tbody>\n",
       "    <tr>\n",
       "      <th>0</th>\n",
       "      <td>0.0</td>\n",
       "      <td>Full</td>\n",
       "      <td>identity</td>\n",
       "      <td>0.8490</td>\n",
       "      <td>0.077571</td>\n",
       "      <td>0.8490</td>\n",
       "      <td>1.357512</td>\n",
       "    </tr>\n",
       "    <tr>\n",
       "      <th>1</th>\n",
       "      <td>0.0</td>\n",
       "      <td>Full</td>\n",
       "      <td>identity</td>\n",
       "      <td>0.8415</td>\n",
       "      <td>0.085013</td>\n",
       "      <td>0.8415</td>\n",
       "      <td>1.234736</td>\n",
       "    </tr>\n",
       "    <tr>\n",
       "      <th>2</th>\n",
       "      <td>0.0</td>\n",
       "      <td>Full</td>\n",
       "      <td>identity</td>\n",
       "      <td>0.8405</td>\n",
       "      <td>0.069211</td>\n",
       "      <td>0.8405</td>\n",
       "      <td>1.071603</td>\n",
       "    </tr>\n",
       "    <tr>\n",
       "      <th>3</th>\n",
       "      <td>0.0</td>\n",
       "      <td>Full</td>\n",
       "      <td>identity</td>\n",
       "      <td>0.8470</td>\n",
       "      <td>0.101513</td>\n",
       "      <td>0.8470</td>\n",
       "      <td>1.640585</td>\n",
       "    </tr>\n",
       "    <tr>\n",
       "      <th>4</th>\n",
       "      <td>0.0</td>\n",
       "      <td>Full</td>\n",
       "      <td>identity</td>\n",
       "      <td>0.8365</td>\n",
       "      <td>0.085423</td>\n",
       "      <td>0.8365</td>\n",
       "      <td>1.116374</td>\n",
       "    </tr>\n",
       "  </tbody>\n",
       "</table>\n",
       "</div>"
      ],
      "text/plain": [
       "   lam_sl ds_size   ds_corr     acc       ece      f1      loss\n",
       "0     0.0    Full  identity  0.8490  0.077571  0.8490  1.357512\n",
       "1     0.0    Full  identity  0.8415  0.085013  0.8415  1.234736\n",
       "2     0.0    Full  identity  0.8405  0.069211  0.8405  1.071603\n",
       "3     0.0    Full  identity  0.8470  0.101513  0.8470  1.640585\n",
       "4     0.0    Full  identity  0.8365  0.085423  0.8365  1.116374"
      ]
     },
     "execution_count": 14,
     "metadata": {},
     "output_type": "execute_result"
    }
   ],
   "source": [
    "df_results"
   ]
  },
  {
   "cell_type": "code",
   "execution_count": 15,
   "metadata": {},
   "outputs": [],
   "source": [
    "agg_results = {}\n",
    "\n",
    "gdf_corr = df_results.groupby('ds_corr')\n",
    "for corr_str, gdf1 in gdf_corr:\n",
    "    agg_results[corr_str] = {}\n",
    "    gdf_ds = gdf1.groupby('ds_size')\n",
    "    \n",
    "    for ds_size, gdf2 in gdf_ds:\n",
    "        gdf_lam = gdf2.groupby('lam_sl')\n",
    "        \n",
    "        r = []\n",
    "        for lam_sl, _df in gdf_lam:\n",
    "            n = np.sqrt(_df.shape[0])\n",
    "\n",
    "            d = {\n",
    "                'lam_sl': lam_sl,\n",
    "                'acc_mean': _df.acc.mean(),\n",
    "                'acc_err': _df.acc.std() / n,\n",
    "                'ece_mean': _df.ece.mean(),\n",
    "                'ece_err': _df.ece.std() / n,\n",
    "                'f1_mean': _df.f1.mean(),\n",
    "                'f1_err': _df.f1.std() / n,\n",
    "                'loss_mean': _df.loss.mean(),\n",
    "                'loss_err': _df.loss.std() / n,\n",
    "            }\n",
    "            \n",
    "            r.append(d)\n",
    "        agg_results[corr_str][ds_size] = pd.DataFrame(r)"
   ]
  },
  {
   "cell_type": "code",
   "execution_count": 16,
   "metadata": {},
   "outputs": [],
   "source": [
    "# agg_results = []\n",
    "\n",
    "# gdf = df_results.groupby('lam_sl')\n",
    "# for lam_sl, _df in gdf:\n",
    "#     n = np.sqrt(_df.shape[0])\n",
    "    \n",
    "#     d = {\n",
    "#         'lam_sl': lam_sl,\n",
    "#         'acc_mean': _df.acc.mean(),\n",
    "#         'acc_err': _df.acc.std() / n,\n",
    "#         'ece_mean': _df.ece.mean(),\n",
    "#         'ece_err': _df.ece.std() / n,\n",
    "#         'f1_mean': _df.f1.mean(),\n",
    "#         'f1_err': _df.f1.std() / n,\n",
    "#         'loss_mean': _df.loss.mean(),\n",
    "#         'loss_err': _df.loss.std() / n,\n",
    "#     }\n",
    "    \n",
    "#     agg_results.append(d)\n",
    "\n",
    "# df_agg = pd.DataFrame(agg_results)"
   ]
  },
  {
   "cell_type": "code",
   "execution_count": 17,
   "metadata": {},
   "outputs": [
    {
     "ename": "KeyError",
     "evalue": "1000",
     "output_type": "error",
     "traceback": [
      "\u001b[0;31m---------------------------------------------------------------------------\u001b[0m",
      "\u001b[0;31mKeyError\u001b[0m                                  Traceback (most recent call last)",
      "Input \u001b[0;32mIn [17]\u001b[0m, in \u001b[0;36m<cell line: 1>\u001b[0;34m()\u001b[0m\n\u001b[0;32m----> 1\u001b[0m \u001b[43magg_results\u001b[49m\u001b[43m[\u001b[49m\u001b[38;5;124;43m'\u001b[39;49m\u001b[38;5;124;43midentity\u001b[39;49m\u001b[38;5;124;43m'\u001b[39;49m\u001b[43m]\u001b[49m\u001b[43m[\u001b[49m\u001b[38;5;241;43m1000\u001b[39;49m\u001b[43m]\u001b[49m\u001b[38;5;241m.\u001b[39mto_dict()\n",
      "\u001b[0;31mKeyError\u001b[0m: 1000"
     ]
    }
   ],
   "source": [
    "agg_results['identity'][1000].to_dict()"
   ]
  },
  {
   "cell_type": "code",
   "execution_count": 18,
   "metadata": {},
   "outputs": [
    {
     "data": {
      "text/plain": [
       "{'identity': {'Full':    lam_sl  acc_mean   acc_err  ece_mean   ece_err  f1_mean    f1_err  \\\n",
       "  0     0.0    0.8429  0.002266  0.083746  0.005336   0.8429  0.002266   \n",
       "  \n",
       "     loss_mean  loss_err  \n",
       "  0   1.284162  0.102028  }}"
      ]
     },
     "execution_count": 18,
     "metadata": {},
     "output_type": "execute_result"
    }
   ],
   "source": [
    "agg_results"
   ]
  },
  {
   "cell_type": "code",
   "execution_count": null,
   "metadata": {},
   "outputs": [],
   "source": []
  }
 ],
 "metadata": {
  "kernelspec": {
   "display_name": "Python (Bayes)",
   "language": "python",
   "name": "bayes"
  },
  "language_info": {
   "codemirror_mode": {
    "name": "ipython",
    "version": 3
   },
   "file_extension": ".py",
   "mimetype": "text/x-python",
   "name": "python",
   "nbconvert_exporter": "python",
   "pygments_lexer": "ipython3",
   "version": "3.9.7"
  }
 },
 "nbformat": 4,
 "nbformat_minor": 4
}
