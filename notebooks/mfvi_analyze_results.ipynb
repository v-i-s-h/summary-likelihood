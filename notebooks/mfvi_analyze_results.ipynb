{
 "cells": [
  {
   "cell_type": "code",
   "execution_count": null,
   "metadata": {},
   "outputs": [],
   "source": [
    "import sys\n",
    "sys.path.append(\"./../\")"
   ]
  },
  {
   "cell_type": "code",
   "execution_count": null,
   "metadata": {},
   "outputs": [],
   "source": [
    "import os\n",
    "import json\n",
    "import glob\n",
    "\n",
    "import numpy as np\n",
    "import pandas as pd\n",
    "\n",
    "from tbparse import SummaryReader\n",
    "import matplotlib.pyplot as plt\n",
    "plt.style.use('seaborn')"
   ]
  },
  {
   "cell_type": "code",
   "execution_count": null,
   "metadata": {},
   "outputs": [],
   "source": [
    "def extract_results(model_dir):\n",
    "    \"\"\"\n",
    "        Get metrics from a give model folder\n",
    "    \"\"\"\n",
    "    \n",
    "    # Get config\n",
    "    config_json = os.path.join(model_dir, 'config.json')\n",
    "    config = json.load(open(config_json, 'r'))\n",
    "    \n",
    "    # Get test events file\n",
    "    tblog_dir = os.path.join(model_dir, \"tblog\")\n",
    "    events_file = glob.glob(tblog_dir + \"/events.out.tfevents*.1\") # *.1 will be from test\n",
    "    if len(events_file) > 0:\n",
    "        events_file = events_file[0]\n",
    "    else:\n",
    "        print(\"Skipping\", model_dir)\n",
    "        return None\n",
    "    tb_log = SummaryReader(events_file, pivot=True).scalars\n",
    "    \n",
    "    # Extract key points\n",
    "    lam_sl = config['method_params']['lam_sl']\n",
    "    ds_size = config['ds_params']['size']\n",
    "    ds_corr = config['ds_params']['corruption']\n",
    "    acc = tb_log.test_acc.values[0]\n",
    "    ece = tb_log.test_ece.values[0]\n",
    "    f1 = tb_log.test_f1.values[0]\n",
    "    loss = tb_log.test_loss.values[0]\n",
    "    \n",
    "    return {\n",
    "        'lam_sl': lam_sl,\n",
    "        'ds_size': ds_size,\n",
    "        'ds_corr': ds_corr,\n",
    "        'acc': acc,\n",
    "        'ece': ece,\n",
    "        'f1': f1,\n",
    "        'loss': loss\n",
    "    }"
   ]
  },
  {
   "cell_type": "code",
   "execution_count": null,
   "metadata": {},
   "outputs": [],
   "source": [
    "def extract_best_results(model_dir):\n",
    "    # Get config\n",
    "    config_json = os.path.join(model_dir, 'config.json')\n",
    "    config = json.load(open(config_json, 'r'))\n",
    "    \n",
    "    # Get test events file\n",
    "    tblog_dir = os.path.join(model_dir, \"tblog\")\n",
    "    events_file = glob.glob(tblog_dir + \"/events.out.tfevents*.0\") # *.1 will be from test\n",
    "    if len(events_file) > 0:\n",
    "        events_file = events_file[0]\n",
    "    else:\n",
    "        print(\"Skipping\", model_dir)\n",
    "        return None\n",
    "    tb_log = SummaryReader(events_file, pivot=True).scalars\n",
    "    \n",
    "    # Get the best point in term of val_f1 (dont look at ECE)\n",
    "    try:\n",
    "        tb_log = tb_log[tb_log.val_f1 == tb_log.val_f1.max()]\n",
    "    except:\n",
    "        print(model_dir)\n",
    "        return None\n",
    "    \n",
    "    # Extract key points\n",
    "    lam_sl = config['method_params'].get('lam_sl', 0.0)\n",
    "    ds_size = config['ds_params'].get('size', 'Full')\n",
    "    ds_corr = config['ds_params'].get('corruption', 'identity')\n",
    "    acc = tb_log.val_acc.values[0]\n",
    "    ece = tb_log.val_ece.values[0]\n",
    "    f1 = tb_log.val_f1.values[0]\n",
    "    loss = tb_log.val_loss.values[0]\n",
    "    \n",
    "    return {\n",
    "        'lam_sl': lam_sl,\n",
    "        'ds_size': ds_size,\n",
    "        'ds_corr': ds_corr,\n",
    "        'acc': acc,\n",
    "        'ece': ece,\n",
    "        'f1': f1,\n",
    "        'loss': loss\n",
    "    }"
   ]
  },
  {
   "cell_type": "code",
   "execution_count": null,
   "metadata": {},
   "outputs": [],
   "source": [
    "rootdir = \"./../zoo/bmnist53-mfvi/\"\n",
    "model_str = \"ConvNet\"\n",
    "\n",
    "# rootdir = \"./../zoo/abl-alpha100-cifar10im-mfvi/\"\n",
    "# model_str = \"VGG11\""
   ]
  },
  {
   "cell_type": "code",
   "execution_count": null,
   "metadata": {},
   "outputs": [],
   "source": [
    "\n",
    "modeldirs = []\n",
    "for expdir in map(lambda x: os.path.join(rootdir, x), os.listdir(rootdir)):\n",
    "    _modeldirs = os.listdir(os.path.join(expdir, model_str))\n",
    "    modeldirs.extend(map(lambda x: os.path.join(expdir, model_str, x), _modeldirs))"
   ]
  },
  {
   "cell_type": "code",
   "execution_count": null,
   "metadata": {},
   "outputs": [],
   "source": [
    "# df_results = pd.DataFrame(filter(None, [extract_results(mdir) for mdir in modeldirs]))\n",
    "df_results = pd.DataFrame(filter(None, [extract_best_results(mdir) for mdir in modeldirs]))"
   ]
  },
  {
   "cell_type": "code",
   "execution_count": null,
   "metadata": {},
   "outputs": [],
   "source": [
    "df_results"
   ]
  },
  {
   "cell_type": "code",
   "execution_count": null,
   "metadata": {},
   "outputs": [],
   "source": [
    "agg_results = {}\n",
    "\n",
    "gdf_corr = df_results.groupby('ds_corr')\n",
    "for corr_str, gdf1 in gdf_corr:\n",
    "    agg_results[corr_str] = {}\n",
    "    gdf_ds = gdf1.groupby('ds_size')\n",
    "    \n",
    "    for ds_size, gdf2 in gdf_ds:\n",
    "        gdf_lam = gdf2.groupby('lam_sl')\n",
    "        \n",
    "        r = []\n",
    "        for lam_sl, _df in gdf_lam:\n",
    "            n = np.sqrt(_df.shape[0])\n",
    "\n",
    "            d = {\n",
    "                'lam_sl': lam_sl,\n",
    "                'acc_mean': _df.acc.mean(),\n",
    "                'acc_err': _df.acc.std() / n,\n",
    "                'ece_mean': _df.ece.mean(),\n",
    "                'ece_err': _df.ece.std() / n,\n",
    "                'f1_mean': _df.f1.mean(),\n",
    "                'f1_err': _df.f1.std() / n,\n",
    "                'loss_mean': _df.loss.mean(),\n",
    "                'loss_err': _df.loss.std() / n,\n",
    "            }\n",
    "            \n",
    "            r.append(d)\n",
    "        agg_results[corr_str][ds_size] = pd.DataFrame(r)"
   ]
  },
  {
   "cell_type": "code",
   "execution_count": null,
   "metadata": {},
   "outputs": [],
   "source": [
    "# agg_results = []\n",
    "\n",
    "# gdf = df_results.groupby('lam_sl')\n",
    "# for lam_sl, _df in gdf:\n",
    "#     n = np.sqrt(_df.shape[0])\n",
    "    \n",
    "#     d = {\n",
    "#         'lam_sl': lam_sl,\n",
    "#         'acc_mean': _df.acc.mean(),\n",
    "#         'acc_err': _df.acc.std() / n,\n",
    "#         'ece_mean': _df.ece.mean(),\n",
    "#         'ece_err': _df.ece.std() / n,\n",
    "#         'f1_mean': _df.f1.mean(),\n",
    "#         'f1_err': _df.f1.std() / n,\n",
    "#         'loss_mean': _df.loss.mean(),\n",
    "#         'loss_err': _df.loss.std() / n,\n",
    "#     }\n",
    "    \n",
    "#     agg_results.append(d)\n",
    "\n",
    "# df_agg = pd.DataFrame(agg_results)"
   ]
  },
  {
   "cell_type": "code",
   "execution_count": null,
   "metadata": {},
   "outputs": [],
   "source": [
    "agg_results['identity'][1000].to_dict()"
   ]
  },
  {
   "cell_type": "code",
   "execution_count": null,
   "metadata": {},
   "outputs": [],
   "source": []
  }
 ],
 "metadata": {
  "kernelspec": {
   "display_name": "Python (Bayes)",
   "language": "python",
   "name": "bayes"
  },
  "language_info": {
   "codemirror_mode": {
    "name": "ipython",
    "version": 3
   },
   "file_extension": ".py",
   "mimetype": "text/x-python",
   "name": "python",
   "nbconvert_exporter": "python",
   "pygments_lexer": "ipython3",
   "version": "3.9.7"
  }
 },
 "nbformat": 4,
 "nbformat_minor": 4
}
